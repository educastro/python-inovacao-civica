{
 "cells": [
  {
   "attachments": {},
   "cell_type": "markdown",
   "id": "32600998",
   "metadata": {},
   "source": [
    "# Exercício\n",
    "\n",
    "Construa um programa que:\n",
    " - Pergunte a usuária 2 números inteiros;\n",
    " - Crie uma lista numérica do intervalo;\n",
    " - Se o número for divisível por 3, substitua-o por \"Tecnologia\";\n",
    " - Se o número for divisível por 5, substitua-o por \"Cívica\";\n",
    " - Se o número for divisível por 3 e 5, substitua-o por \"Tecnologia Cívica\"."
   ]
  },
  {
   "cell_type": "code",
   "execution_count": 17,
   "id": "102d9eab",
   "metadata": {},
   "outputs": [
    {
     "name": "stdout",
     "output_type": "stream",
     "text": [
      "['Cívica', 'Tecnologia', 7, 8, 'Tecnologia', 'Cívica', 11, 'Tecnologia', 13, 14, 'Tecnologia Cívica', 16, 17, 'Tecnologia', 19, 'Cívica']\n"
     ]
    }
   ],
   "source": [
    "num1 = 0\n",
    "num2 = 0\n",
    "\n",
    "num1 = int(input('Digite o 1º número: '))\n",
    "\n",
    "while num2 <= num1:\n",
    "    num2 = int(input('Digite o 2º número, devendo este ser maior do que o 1º: '))\n",
    "\n",
    "lista_numerica = [*range(num1, num2+1, 1)]\n",
    "\n",
    "for index,item in enumerate(lista_numerica):\n",
    "    if item % 3 == 0 and item % 5 == 0:\n",
    "        lista_numerica[index] = 'Tecnologia Cívica'\n",
    "    elif item % 3 == 0:\n",
    "        lista_numerica[index] = 'Tecnologia'\n",
    "    elif item % 5 == 0:\n",
    "        lista_numerica[index] = 'Cívica'    \n",
    "\n",
    "print(lista_numerica)\n",
    "    "
   ]
  }
 ],
 "metadata": {
  "kernelspec": {
   "display_name": "Python 3 (ipykernel)",
   "language": "python",
   "name": "python3"
  },
  "language_info": {
   "codemirror_mode": {
    "name": "ipython",
    "version": 3
   },
   "file_extension": ".py",
   "mimetype": "text/x-python",
   "name": "python",
   "nbconvert_exporter": "python",
   "pygments_lexer": "ipython3",
   "version": "3.9.13"
  }
 },
 "nbformat": 4,
 "nbformat_minor": 5
}
