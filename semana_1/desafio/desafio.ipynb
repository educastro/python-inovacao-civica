{
 "cells": [
  {
   "attachments": {},
   "cell_type": "markdown",
   "id": "b0c02ae8-da85-499a-99c9-8c3da9e1ae05",
   "metadata": {},
   "source": [
    "# Explorando dados\n",
    "\n",
    "Neste desafio colocaremos em prática alguns conceitos apresentado nas aulas. Para isso, usaremos o conjunto de dados [Candidatos - 2022](https://dadosabertos.tse.jus.br/dataset/candidatos-2022) disponível no Portal de Dados Abertos do Tribunal Superior Eleitoral.\n",
    "\n",
    "Os dados também podem ser encontrados na pasta \"Dados\" deste repositório.\n",
    "\n",
    "Siga as orientações abaixo para completar o desafio:"
   ]
  },
  {
   "attachments": {},
   "cell_type": "markdown",
   "id": "d2bf34dd-2879-4dd6-b65b-4944a34c03d4",
   "metadata": {},
   "source": [
    "# Importe os pacotes necessários"
   ]
  },
  {
   "cell_type": "code",
   "execution_count": 30,
   "id": "b286617f-43b9-4c20-8b0e-5ae0da7e4a9f",
   "metadata": {},
   "outputs": [],
   "source": [
    "import pandas as pd\n",
    "import glob\n",
    "import os"
   ]
  },
  {
   "attachments": {},
   "cell_type": "markdown",
   "id": "ced62f05-5e3c-4565-b13c-f359fb8c35bf",
   "metadata": {},
   "source": [
    "# Crie uma lista com o título dos arquivos usando a biblioteca Gloob"
   ]
  },
  {
   "cell_type": "code",
   "execution_count": 31,
   "id": "45b0cb8f-d567-4274-877f-53e8faa7d1be",
   "metadata": {},
   "outputs": [
    {
     "name": "stdout",
     "output_type": "stream",
     "text": [
      "['../base_dados\\\\consulta_cand_2022_AP.csv', '../base_dados\\\\consulta_cand_2022_PA.csv']\n"
     ]
    }
   ],
   "source": [
    "#os.chdir(\"../base_dados\")\n",
    "lista = glob.glob('../base_dados/*.csv')\n",
    "print(lista)"
   ]
  },
  {
   "attachments": {},
   "cell_type": "markdown",
   "id": "cf29db73-447b-4375-bad5-2df7aa7c4743",
   "metadata": {},
   "source": [
    "# Crie um laço (loop) para ler todos os arquivos da lista (usando a biblioteca Pandas) e armazenar os dataframes em uma lista"
   ]
  },
  {
   "cell_type": "code",
   "execution_count": 32,
   "id": "dd63f03d-147e-4fda-ba61-9edb0bdee254",
   "metadata": {},
   "outputs": [],
   "source": [
    "lista_df = []\n",
    "\n",
    "for arquivo in lista:\n",
    "    arquivo_df = pd.read_csv(arquivo, sep=';', encoding='latin-1')\n",
    "    lista_df.append(arquivo_df)    "
   ]
  },
  {
   "attachments": {},
   "cell_type": "markdown",
   "id": "310bca4e-c1c2-4030-a427-ecda54601106",
   "metadata": {},
   "source": [
    "# Concatene todos os dataframes da lista"
   ]
  },
  {
   "cell_type": "code",
   "execution_count": 33,
   "id": "997a08ff-f355-40c1-9257-cf4a196517bd",
   "metadata": {},
   "outputs": [],
   "source": [
    "lista_completa = pd.concat(lista_df, axis=0, ignore_index=True)"
   ]
  },
  {
   "attachments": {},
   "cell_type": "markdown",
   "id": "0c1bee1c-a55d-4152-98cd-471028d2d73a",
   "metadata": {},
   "source": [
    "# Apresente 5 linhas aleatórias do dataframe"
   ]
  },
  {
   "cell_type": "code",
   "execution_count": 34,
   "id": "b7b7124c-f6fa-4d90-b157-88678e82076e",
   "metadata": {},
   "outputs": [
    {
     "data": {
      "text/html": [
       "<div>\n",
       "<style scoped>\n",
       "    .dataframe tbody tr th:only-of-type {\n",
       "        vertical-align: middle;\n",
       "    }\n",
       "\n",
       "    .dataframe tbody tr th {\n",
       "        vertical-align: top;\n",
       "    }\n",
       "\n",
       "    .dataframe thead th {\n",
       "        text-align: right;\n",
       "    }\n",
       "</style>\n",
       "<table border=\"1\" class=\"dataframe\">\n",
       "  <thead>\n",
       "    <tr style=\"text-align: right;\">\n",
       "      <th></th>\n",
       "      <th>DT_GERACAO</th>\n",
       "      <th>HH_GERACAO</th>\n",
       "      <th>ANO_ELEICAO</th>\n",
       "      <th>CD_TIPO_ELEICAO</th>\n",
       "      <th>NM_TIPO_ELEICAO</th>\n",
       "      <th>NR_TURNO</th>\n",
       "      <th>CD_ELEICAO</th>\n",
       "      <th>DS_ELEICAO</th>\n",
       "      <th>DT_ELEICAO</th>\n",
       "      <th>TP_ABRANGENCIA</th>\n",
       "      <th>...</th>\n",
       "      <th>NR_PROCESSO</th>\n",
       "      <th>CD_SITUACAO_CANDIDATO_PLEITO</th>\n",
       "      <th>DS_SITUACAO_CANDIDATO_PLEITO</th>\n",
       "      <th>CD_SITUACAO_CANDIDATO_URNA</th>\n",
       "      <th>DS_SITUACAO_CANDIDATO_URNA</th>\n",
       "      <th>ST_CANDIDATO_INSERIDO_URNA</th>\n",
       "      <th>NM_TIPO_DESTINACAO_VOTOS</th>\n",
       "      <th>CD_SITUACAO_CANDIDATO_TOT</th>\n",
       "      <th>DS_SITUACAO_CANDIDATO_TOT</th>\n",
       "      <th>ST_PREST_CONTAS</th>\n",
       "    </tr>\n",
       "  </thead>\n",
       "  <tbody>\n",
       "    <tr>\n",
       "      <th>282</th>\n",
       "      <td>13/05/2023</td>\n",
       "      <td>19:32:48</td>\n",
       "      <td>2022</td>\n",
       "      <td>2</td>\n",
       "      <td>ELEIÇÃO ORDINÁRIA</td>\n",
       "      <td>1</td>\n",
       "      <td>546</td>\n",
       "      <td>Eleições Gerais Estaduais 2022</td>\n",
       "      <td>02/10/2022</td>\n",
       "      <td>ESTADUAL</td>\n",
       "      <td>...</td>\n",
       "      <td>6005447720226030000</td>\n",
       "      <td>-1</td>\n",
       "      <td>#NULO#</td>\n",
       "      <td>-1</td>\n",
       "      <td>#NULO#</td>\n",
       "      <td>NÃO</td>\n",
       "      <td>#NULO#</td>\n",
       "      <td>-1</td>\n",
       "      <td>#NULO#</td>\n",
       "      <td>N</td>\n",
       "    </tr>\n",
       "    <tr>\n",
       "      <th>1098</th>\n",
       "      <td>13/05/2023</td>\n",
       "      <td>19:32:48</td>\n",
       "      <td>2022</td>\n",
       "      <td>2</td>\n",
       "      <td>ELEIÇÃO ORDINÁRIA</td>\n",
       "      <td>1</td>\n",
       "      <td>546</td>\n",
       "      <td>Eleições Gerais Estaduais 2022</td>\n",
       "      <td>02/10/2022</td>\n",
       "      <td>ESTADUAL</td>\n",
       "      <td>...</td>\n",
       "      <td>6010322620226140000</td>\n",
       "      <td>2</td>\n",
       "      <td>DEFERIDO</td>\n",
       "      <td>2</td>\n",
       "      <td>DEFERIDO</td>\n",
       "      <td>SIM</td>\n",
       "      <td>Válido</td>\n",
       "      <td>2</td>\n",
       "      <td>Deferido</td>\n",
       "      <td>S</td>\n",
       "    </tr>\n",
       "    <tr>\n",
       "      <th>682</th>\n",
       "      <td>13/05/2023</td>\n",
       "      <td>19:32:48</td>\n",
       "      <td>2022</td>\n",
       "      <td>2</td>\n",
       "      <td>ELEIÇÃO ORDINÁRIA</td>\n",
       "      <td>1</td>\n",
       "      <td>546</td>\n",
       "      <td>Eleições Gerais Estaduais 2022</td>\n",
       "      <td>02/10/2022</td>\n",
       "      <td>ESTADUAL</td>\n",
       "      <td>...</td>\n",
       "      <td>6003637020226140000</td>\n",
       "      <td>2</td>\n",
       "      <td>DEFERIDO</td>\n",
       "      <td>2</td>\n",
       "      <td>DEFERIDO</td>\n",
       "      <td>SIM</td>\n",
       "      <td>Válido</td>\n",
       "      <td>2</td>\n",
       "      <td>Deferido</td>\n",
       "      <td>S</td>\n",
       "    </tr>\n",
       "    <tr>\n",
       "      <th>869</th>\n",
       "      <td>13/05/2023</td>\n",
       "      <td>19:32:48</td>\n",
       "      <td>2022</td>\n",
       "      <td>2</td>\n",
       "      <td>ELEIÇÃO ORDINÁRIA</td>\n",
       "      <td>1</td>\n",
       "      <td>546</td>\n",
       "      <td>Eleições Gerais Estaduais 2022</td>\n",
       "      <td>02/10/2022</td>\n",
       "      <td>ESTADUAL</td>\n",
       "      <td>...</td>\n",
       "      <td>6008677620226140000</td>\n",
       "      <td>2</td>\n",
       "      <td>DEFERIDO</td>\n",
       "      <td>2</td>\n",
       "      <td>DEFERIDO</td>\n",
       "      <td>SIM</td>\n",
       "      <td>Válido</td>\n",
       "      <td>2</td>\n",
       "      <td>Deferido</td>\n",
       "      <td>S</td>\n",
       "    </tr>\n",
       "    <tr>\n",
       "      <th>1308</th>\n",
       "      <td>13/05/2023</td>\n",
       "      <td>19:32:48</td>\n",
       "      <td>2022</td>\n",
       "      <td>2</td>\n",
       "      <td>ELEIÇÃO ORDINÁRIA</td>\n",
       "      <td>1</td>\n",
       "      <td>546</td>\n",
       "      <td>Eleições Gerais Estaduais 2022</td>\n",
       "      <td>02/10/2022</td>\n",
       "      <td>ESTADUAL</td>\n",
       "      <td>...</td>\n",
       "      <td>6010686820226140000</td>\n",
       "      <td>2</td>\n",
       "      <td>DEFERIDO</td>\n",
       "      <td>2</td>\n",
       "      <td>DEFERIDO</td>\n",
       "      <td>SIM</td>\n",
       "      <td>Válido</td>\n",
       "      <td>2</td>\n",
       "      <td>Deferido</td>\n",
       "      <td>S</td>\n",
       "    </tr>\n",
       "  </tbody>\n",
       "</table>\n",
       "<p>5 rows × 71 columns</p>\n",
       "</div>"
      ],
      "text/plain": [
       "      DT_GERACAO HH_GERACAO  ANO_ELEICAO  CD_TIPO_ELEICAO    NM_TIPO_ELEICAO  \\\n",
       "282   13/05/2023   19:32:48         2022                2  ELEIÇÃO ORDINÁRIA   \n",
       "1098  13/05/2023   19:32:48         2022                2  ELEIÇÃO ORDINÁRIA   \n",
       "682   13/05/2023   19:32:48         2022                2  ELEIÇÃO ORDINÁRIA   \n",
       "869   13/05/2023   19:32:48         2022                2  ELEIÇÃO ORDINÁRIA   \n",
       "1308  13/05/2023   19:32:48         2022                2  ELEIÇÃO ORDINÁRIA   \n",
       "\n",
       "      NR_TURNO  CD_ELEICAO                      DS_ELEICAO  DT_ELEICAO  \\\n",
       "282          1         546  Eleições Gerais Estaduais 2022  02/10/2022   \n",
       "1098         1         546  Eleições Gerais Estaduais 2022  02/10/2022   \n",
       "682          1         546  Eleições Gerais Estaduais 2022  02/10/2022   \n",
       "869          1         546  Eleições Gerais Estaduais 2022  02/10/2022   \n",
       "1308         1         546  Eleições Gerais Estaduais 2022  02/10/2022   \n",
       "\n",
       "     TP_ABRANGENCIA  ...          NR_PROCESSO CD_SITUACAO_CANDIDATO_PLEITO  \\\n",
       "282        ESTADUAL  ...  6005447720226030000                           -1   \n",
       "1098       ESTADUAL  ...  6010322620226140000                            2   \n",
       "682        ESTADUAL  ...  6003637020226140000                            2   \n",
       "869        ESTADUAL  ...  6008677620226140000                            2   \n",
       "1308       ESTADUAL  ...  6010686820226140000                            2   \n",
       "\n",
       "     DS_SITUACAO_CANDIDATO_PLEITO  CD_SITUACAO_CANDIDATO_URNA  \\\n",
       "282                        #NULO#                          -1   \n",
       "1098                     DEFERIDO                           2   \n",
       "682                      DEFERIDO                           2   \n",
       "869                      DEFERIDO                           2   \n",
       "1308                     DEFERIDO                           2   \n",
       "\n",
       "     DS_SITUACAO_CANDIDATO_URNA  ST_CANDIDATO_INSERIDO_URNA  \\\n",
       "282                      #NULO#                         NÃO   \n",
       "1098                   DEFERIDO                         SIM   \n",
       "682                    DEFERIDO                         SIM   \n",
       "869                    DEFERIDO                         SIM   \n",
       "1308                   DEFERIDO                         SIM   \n",
       "\n",
       "      NM_TIPO_DESTINACAO_VOTOS CD_SITUACAO_CANDIDATO_TOT  \\\n",
       "282                     #NULO#                        -1   \n",
       "1098                    Válido                         2   \n",
       "682                     Válido                         2   \n",
       "869                     Válido                         2   \n",
       "1308                    Válido                         2   \n",
       "\n",
       "     DS_SITUACAO_CANDIDATO_TOT ST_PREST_CONTAS  \n",
       "282                     #NULO#               N  \n",
       "1098                  Deferido               S  \n",
       "682                   Deferido               S  \n",
       "869                   Deferido               S  \n",
       "1308                  Deferido               S  \n",
       "\n",
       "[5 rows x 71 columns]"
      ]
     },
     "execution_count": 34,
     "metadata": {},
     "output_type": "execute_result"
    }
   ],
   "source": [
    "lista_completa.sample(5)"
   ]
  },
  {
   "attachments": {},
   "cell_type": "markdown",
   "id": "a8238419-ff3d-4f00-bc36-ad1f4da01920",
   "metadata": {},
   "source": [
    "# Quantas candidaturas estão em situação de reeleição?"
   ]
  },
  {
   "cell_type": "code",
   "execution_count": 35,
   "id": "28055dde-c74b-403e-bcc3-deb82a828084",
   "metadata": {},
   "outputs": [
    {
     "data": {
      "text/plain": [
       "ST_REELEICAO\n",
       "N                 1518\n",
       "S                   81\n",
       "Não divulgável       1\n",
       "Name: count, dtype: int64"
      ]
     },
     "execution_count": 35,
     "metadata": {},
     "output_type": "execute_result"
    }
   ],
   "source": [
    "lista_completa[\"ST_REELEICAO\"].value_counts()"
   ]
  },
  {
   "attachments": {},
   "cell_type": "markdown",
   "id": "7cd5434f-9c0d-4fb6-a3ef-ce44498fea2e",
   "metadata": {},
   "source": [
    "# Liste todas a ocupações declaradas pelas candidaturas"
   ]
  },
  {
   "cell_type": "code",
   "execution_count": 36,
   "id": "ef30c1ab-703f-4c65-8ba5-1cde6c183f88",
   "metadata": {},
   "outputs": [
    {
     "data": {
      "text/plain": [
       "0                                         DONA DE CASA\n",
       "1       ESTUDANTE, BOLSISTA, ESTAGIÁRIO E ASSEMELHADOS\n",
       "2                         PROFESSOR DE ENSINO SUPERIOR\n",
       "3                                           EMPRESÁRIO\n",
       "4                                     POLICIAL MILITAR\n",
       "                             ...                      \n",
       "1595                                        EMPRESÁRIO\n",
       "1596                                        ENGENHEIRO\n",
       "1597                                            OUTROS\n",
       "1598            CARPINTEIRO, MARCENEIRO E ASSEMELHADOS\n",
       "1599                                  POLICIAL MILITAR\n",
       "Name: DS_OCUPACAO, Length: 1600, dtype: object"
      ]
     },
     "execution_count": 36,
     "metadata": {},
     "output_type": "execute_result"
    }
   ],
   "source": [
    "lista_completa[\"DS_OCUPACAO\"]"
   ]
  },
  {
   "attachments": {},
   "cell_type": "markdown",
   "id": "f92cd033-7c9a-47ac-acad-d5db0035e6ff",
   "metadata": {},
   "source": [
    "# Quantos anos tem a pessoa candidata mais velha?"
   ]
  },
  {
   "cell_type": "code",
   "execution_count": 37,
   "id": "53b023a1-812e-4587-897d-703bf0a2a746",
   "metadata": {},
   "outputs": [
    {
     "name": "stderr",
     "output_type": "stream",
     "text": [
      "C:\\Users\\eduar\\AppData\\Local\\Temp\\ipykernel_31276\\1609082331.py:1: UserWarning: Parsing dates in %d/%m/%Y format when dayfirst=False (the default) was specified. Pass `dayfirst=True` or specify a format to silence this warning.\n",
      "  pd.to_datetime('today').year - pd.to_datetime(lista_completa[\"DT_NASCIMENTO\"]).agg([\"min\"])[0].year\n"
     ]
    },
    {
     "data": {
      "text/plain": [
       "82"
      ]
     },
     "execution_count": 37,
     "metadata": {},
     "output_type": "execute_result"
    }
   ],
   "source": [
    "pd.to_datetime('today').year - pd.to_datetime(lista_completa[\"DT_NASCIMENTO\"]).agg([\"min\"])[0].year\n"
   ]
  },
  {
   "attachments": {},
   "cell_type": "markdown",
   "id": "de5c48c3-c0b9-418c-bba2-bb20c5312bd8",
   "metadata": {},
   "source": [
    "# Quantos anos tem a pessoa candidata mais jovem?"
   ]
  },
  {
   "cell_type": "code",
   "execution_count": 38,
   "id": "19c454cb-784f-48ab-8a82-61343b045bb8",
   "metadata": {},
   "outputs": [
    {
     "name": "stderr",
     "output_type": "stream",
     "text": [
      "C:\\Users\\eduar\\AppData\\Local\\Temp\\ipykernel_31276\\3242724445.py:1: UserWarning: Parsing dates in %d/%m/%Y format when dayfirst=False (the default) was specified. Pass `dayfirst=True` or specify a format to silence this warning.\n",
      "  pd.to_datetime('today').year - pd.to_datetime(lista_completa[\"DT_NASCIMENTO\"]).agg([\"max\"])[0].year\n"
     ]
    },
    {
     "data": {
      "text/plain": [
       "20"
      ]
     },
     "execution_count": 38,
     "metadata": {},
     "output_type": "execute_result"
    }
   ],
   "source": [
    "pd.to_datetime('today').year - pd.to_datetime(lista_completa[\"DT_NASCIMENTO\"]).agg([\"max\"])[0].year\n"
   ]
  },
  {
   "attachments": {},
   "cell_type": "markdown",
   "id": "f18ae4e7-ccca-4152-9971-65c543847936",
   "metadata": {},
   "source": [
    "# Qual é o nome da pessoa candidata mais velha?"
   ]
  },
  {
   "cell_type": "code",
   "execution_count": 39,
   "id": "c7059bae-72e9-4c4b-ae70-71c9085b2a1f",
   "metadata": {},
   "outputs": [
    {
     "data": {
      "text/plain": [
       "606    MARIA DE LOURDES PEREIRA DE FARIAS\n",
       "Name: NM_CANDIDATO, dtype: object"
      ]
     },
     "execution_count": 39,
     "metadata": {},
     "output_type": "execute_result"
    }
   ],
   "source": [
    "lista_completa.loc[lista_completa[\"DT_NASCIMENTO\"] == \"07/06/1941\", \"NM_CANDIDATO\"]\n"
   ]
  },
  {
   "attachments": {},
   "cell_type": "markdown",
   "id": "f6ddfb4c-7012-4f0b-befb-f44cde4c06a8",
   "metadata": {},
   "source": [
    "# Quantas candidaturas existem para \"Deputado federal\" seu estado?"
   ]
  },
  {
   "cell_type": "code",
   "execution_count": 40,
   "id": "ae815f6f-7403-4067-af0b-175b21f45172",
   "metadata": {},
   "outputs": [
    {
     "data": {
      "text/plain": [
       "154"
      ]
     },
     "execution_count": 40,
     "metadata": {},
     "output_type": "execute_result"
    }
   ],
   "source": [
    "len(lista_completa[(lista_completa[\"DS_CARGO\"] == \"DEPUTADO FEDERAL\") & (lista_completa[\"SG_UE\"] == \"AP\")])"
   ]
  },
  {
   "attachments": {},
   "cell_type": "markdown",
   "id": "6658e4f9-9271-4f0e-b6f8-575e33e5d8c9",
   "metadata": {},
   "source": [
    "# Qual é a média do valor máximo de despesas de campanha?"
   ]
  },
  {
   "cell_type": "code",
   "execution_count": 41,
   "id": "1b8283db-c218-44cd-908b-e4a2f041a435",
   "metadata": {},
   "outputs": [
    {
     "data": {
      "text/plain": [
       "1881483.8612937503"
      ]
     },
     "execution_count": 41,
     "metadata": {},
     "output_type": "execute_result"
    }
   ],
   "source": [
    "lista_completa[\"VR_DESPESA_MAX_CAMPANHA\"].mean()"
   ]
  }
 ],
 "metadata": {
  "kernelspec": {
   "display_name": "Python 3 (ipykernel)",
   "language": "python",
   "name": "python3"
  },
  "language_info": {
   "codemirror_mode": {
    "name": "ipython",
    "version": 3
   },
   "file_extension": ".py",
   "mimetype": "text/x-python",
   "name": "python",
   "nbconvert_exporter": "python",
   "pygments_lexer": "ipython3",
   "version": "3.9.13"
  }
 },
 "nbformat": 4,
 "nbformat_minor": 5
}
