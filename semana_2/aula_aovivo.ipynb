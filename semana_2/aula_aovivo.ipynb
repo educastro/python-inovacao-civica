{
 "cells": [
  {
   "cell_type": "markdown",
   "id": "7187e3e9",
   "metadata": {
    "id": "7187e3e9"
   },
   "source": [
    "# Escola de Dados - Python para inovação cívica\n",
    "\n",
    "Os dados que usaremos nesse notebook pode ser encontrado em: [Candidatos - 2016](https://dadosabertos.tse.jus.br/dataset/candidatos-2016) e [Candidatos - 2020](https://dadosabertos.tse.jus.br/dataset/candidatos-2020-subtemas) disponível no Portal de Dados Abertos do Tribunal Superior Eleitoral.\n",
    "\n",
    "\n",
    "Os dados também podem ser encontrados na pasta \"base_dados\" deste repositório.\n",
    "\n",
    "\n",
    "------\n",
    "Pontos para aula:\n",
    "\n",
    "- Quantas candidaturas para a Câmara de Vereadores houveram em cada ano agrupado por gênero ? \n",
    "- Qual a faixa etária média das pessoas candidatas para a Câmara de Vereadores?\n",
    "- Há correlação entre idade, gênero e custo da campanha?\n",
    "- Visualização gráfica da distribuição da variável DS_COR_RACA em 2020"
   ]
  },
  {
   "cell_type": "code",
   "execution_count": 7,
   "id": "b512da49",
   "metadata": {},
   "outputs": [],
   "source": [
    "# Importação das bibliotecas necessárias\n",
    "\n",
    "import pandas as pd\n",
    "import numpy as np\n",
    "import matplotlib.pyplot as plt"
   ]
  },
  {
   "cell_type": "code",
   "execution_count": 61,
   "id": "a0b700c7",
   "metadata": {},
   "outputs": [],
   "source": [
    "# Carga das bases de dados necessárias\n",
    "\n",
    "df_candidatos_2016_ap = pd.read_csv('base_dados/consulta_cand_2016_AP.csv', sep=';', encoding='latin_1')\n",
    "df_candidatos_2020_ap = pd.read_csv('base_dados/consulta_cand_2020_AP.csv', sep=';', encoding='latin_1')\n",
    "df_candidatos_2016_pa = pd.read_csv('base_dados/consulta_cand_2016_PA.csv', sep=';', encoding='latin_1')\n",
    "df_candidatos_2020_pa = pd.read_csv('base_dados/consulta_cand_2020_PA.csv', sep=';', encoding='latin_1')\n"
   ]
  },
  {
   "cell_type": "markdown",
   "id": "d2aa52d3",
   "metadata": {
    "id": "d2aa52d3"
   },
   "source": [
    "# Quantas candidaturas houveram em cada ano agrupado por gênero ? "
   ]
  },
  {
   "cell_type": "code",
   "execution_count": 62,
   "id": "32b4107b",
   "metadata": {},
   "outputs": [
    {
     "data": {
      "text/html": [
       "<div>\n",
       "<style scoped>\n",
       "    .dataframe tbody tr th:only-of-type {\n",
       "        vertical-align: middle;\n",
       "    }\n",
       "\n",
       "    .dataframe tbody tr th {\n",
       "        vertical-align: top;\n",
       "    }\n",
       "\n",
       "    .dataframe thead th {\n",
       "        text-align: right;\n",
       "    }\n",
       "</style>\n",
       "<table border=\"1\" class=\"dataframe\">\n",
       "  <thead>\n",
       "    <tr style=\"text-align: right;\">\n",
       "      <th></th>\n",
       "      <th></th>\n",
       "      <th>CD_CARGO</th>\n",
       "    </tr>\n",
       "    <tr>\n",
       "      <th>ANO_ELEICAO</th>\n",
       "      <th>DS_GENERO</th>\n",
       "      <th></th>\n",
       "    </tr>\n",
       "  </thead>\n",
       "  <tbody>\n",
       "    <tr>\n",
       "      <th rowspan=\"3\" valign=\"top\">2016</th>\n",
       "      <th>FEMININO</th>\n",
       "      <td>7243</td>\n",
       "    </tr>\n",
       "    <tr>\n",
       "      <th>MASCULINO</th>\n",
       "      <td>15281</td>\n",
       "    </tr>\n",
       "    <tr>\n",
       "      <th>NÃO DIVULGÁVEL</th>\n",
       "      <td>5</td>\n",
       "    </tr>\n",
       "    <tr>\n",
       "      <th rowspan=\"3\" valign=\"top\">2020</th>\n",
       "      <th>FEMININO</th>\n",
       "      <td>8916</td>\n",
       "    </tr>\n",
       "    <tr>\n",
       "      <th>MASCULINO</th>\n",
       "      <td>17235</td>\n",
       "    </tr>\n",
       "    <tr>\n",
       "      <th>NÃO DIVULGÁVEL</th>\n",
       "      <td>2</td>\n",
       "    </tr>\n",
       "  </tbody>\n",
       "</table>\n",
       "</div>"
      ],
      "text/plain": [
       "                            CD_CARGO\n",
       "ANO_ELEICAO DS_GENERO               \n",
       "2016        FEMININO            7243\n",
       "            MASCULINO          15281\n",
       "            NÃO DIVULGÁVEL         5\n",
       "2020        FEMININO            8916\n",
       "            MASCULINO          17235\n",
       "            NÃO DIVULGÁVEL         2"
      ]
     },
     "execution_count": 62,
     "metadata": {},
     "output_type": "execute_result"
    }
   ],
   "source": [
    "# 2016 - Amapá\n",
    "df_candidatos_2016_ap[\"DS_GENERO\"].value_counts()\n",
    "# 2020 - Amapá\n",
    "df_candidatos_2020_ap[\"DS_GENERO\"].value_counts()\n",
    "\n",
    "# 2016 - Pará\n",
    "df_candidatos_2016_pa[\"DS_GENERO\"].value_counts()\n",
    "# 2020 - Pará\n",
    "df_candidatos_2020_pa[\"DS_GENERO\"].value_counts()\n",
    "\n",
    "# 2016 - Pará e Amapá\n",
    "df_completo_2016 = pd.concat([df_candidatos_2016_ap, df_candidatos_2016_pa], axis=0, ignore_index=True)\n",
    "df_completo_2016[\"DS_GENERO\"].value_counts()\n",
    "\n",
    "# 2020 - Pará e Amapá\n",
    "# 2020 - Pará e Amapá\n",
    "df_completo_2020 = pd.concat([df_candidatos_2020_ap, df_candidatos_2020_pa], axis=0, ignore_index=True)\n",
    "df_completo_2020[\"DS_GENERO\"].value_counts()\n",
    "\n",
    "# 2016 e 2020 - Pará e Amapá\n",
    "df_completo_2016_2020 = pd.concat([df_candidatos_2016_ap, df_candidatos_2016_pa, df_candidatos_2020_ap, df_candidatos_2020_pa], axis=0, ignore_index=True)\n",
    "# Solução 1\n",
    "df_completo_2016_2020[[\"ANO_ELEICAO\", \"DS_GENERO\"]].groupby([\"ANO_ELEICAO\", \"DS_GENERO\"]).value_counts()\n",
    "# Solução 2\n",
    "df_completo_2016_2020[[\"ANO_ELEICAO\", \"DS_GENERO\", \"CD_CARGO\"]].groupby([\"ANO_ELEICAO\", \"DS_GENERO\"]).count()"
   ]
  },
  {
   "cell_type": "markdown",
   "id": "aaeb951e",
   "metadata": {
    "id": "aaeb951e"
   },
   "source": [
    "# Qual a faixa etária média das pessoas candidatas para a Câmara de Vereadores?"
   ]
  },
  {
   "cell_type": "code",
   "execution_count": 63,
   "id": "170e36ba",
   "metadata": {},
   "outputs": [
    {
     "data": {
      "text/plain": [
       "0    41 a 50 anos\n",
       "Name: FAIXA_ETARIA, dtype: category\n",
       "Categories (8, object): ['0 a 30 anos' < '31 a 40 anos' < '41 a 50 anos' < '51 a 60 anos' < '61 a 70 anos' < '71 a 80 anos' < '81 a 90 anos' < '91 a 100 anos']"
      ]
     },
     "execution_count": 63,
     "metadata": {},
     "output_type": "execute_result"
    }
   ],
   "source": [
    "# Idade\n",
    "df_completo_2016_2020[\"NR_IDADE_DATA_POSSE\"].mean()\n",
    "\n",
    "# Faixa Etária\n",
    "faixas_etarias = [0, 30, 40, 50, 60, 70, 80, 90, 100]\n",
    "categorias_etarias = [\"0 a 30 anos\", \"31 a 40 anos\", \"41 a 50 anos\", \"51 a 60 anos\", \"61 a 70 anos\", \"71 a 80 anos\", \"81 a 90 anos\", \"91 a 100 anos\"]\n",
    "df_completo_2016_2020[\"FAIXA_ETARIA\"] = pd.cut(df_completo_2016_2020[\"NR_IDADE_DATA_POSSE\"], bins=faixas_etarias, labels=categorias_etarias)\n",
    "df_completo_2016_2020[\"FAIXA_ETARIA\"].mode()"
   ]
  },
  {
   "cell_type": "markdown",
   "id": "173e6e5f",
   "metadata": {
    "id": "173e6e5f"
   },
   "source": [
    "# Visualize graficamente a distribuição da variável DS_COR_RACA em 2020"
   ]
  },
  {
   "cell_type": "code",
   "execution_count": 70,
   "id": "add56a8b",
   "metadata": {},
   "outputs": [
    {
     "data": {
      "image/png": "[encoded data removed]",
      "text/plain": [
       "<Figure size 640x480 with 1 Axes>"
      ]
     },
     "metadata": {},
     "output_type": "display_data"
    }
   ],
   "source": [
    "\n",
    "df_completo_2020[[\"CD_COR_RACA\", \"DS_COR_RACA\"]].groupby([\"DS_COR_RACA\"]).count()\n",
    "\n",
    "raca = df_completo_2020[\"DS_COR_RACA\"].unique().tolist()\n",
    "frequencia = df_completo_2020[\"DS_COR_RACA\"].value_counts(sort=False).tolist()\n",
    "plt.bar(raca,frequencia)\n",
    "plt.show()\n",
    "\n"
   ]
  },
  {
   "cell_type": "markdown",
   "id": "85ffe243",
   "metadata": {},
   "source": [
    "# Há correlação entre idade, gênero e custo da campanha?"
   ]
  },
  {
   "cell_type": "code",
   "execution_count": 71,
   "id": "6f656742",
   "metadata": {},
   "outputs": [
    {
     "data": {
      "text/html": [
       "<div>\n",
       "<style scoped>\n",
       "    .dataframe tbody tr th:only-of-type {\n",
       "        vertical-align: middle;\n",
       "    }\n",
       "\n",
       "    .dataframe tbody tr th {\n",
       "        vertical-align: top;\n",
       "    }\n",
       "\n",
       "    .dataframe thead th {\n",
       "        text-align: right;\n",
       "    }\n",
       "</style>\n",
       "<table border=\"1\" class=\"dataframe\">\n",
       "  <thead>\n",
       "    <tr style=\"text-align: right;\">\n",
       "      <th></th>\n",
       "      <th>NR_IDADE_DATA_POSSE</th>\n",
       "      <th>CD_GENERO</th>\n",
       "      <th>VR_DESPESA_MAX_CAMPANHA</th>\n",
       "    </tr>\n",
       "  </thead>\n",
       "  <tbody>\n",
       "    <tr>\n",
       "      <th>NR_IDADE_DATA_POSSE</th>\n",
       "      <td>1.000000</td>\n",
       "      <td>-0.101835</td>\n",
       "      <td>0.080565</td>\n",
       "    </tr>\n",
       "    <tr>\n",
       "      <th>CD_GENERO</th>\n",
       "      <td>-0.101835</td>\n",
       "      <td>1.000000</td>\n",
       "      <td>-0.032523</td>\n",
       "    </tr>\n",
       "    <tr>\n",
       "      <th>VR_DESPESA_MAX_CAMPANHA</th>\n",
       "      <td>0.080565</td>\n",
       "      <td>-0.032523</td>\n",
       "      <td>1.000000</td>\n",
       "    </tr>\n",
       "  </tbody>\n",
       "</table>\n",
       "</div>"
      ],
      "text/plain": [
       "                         NR_IDADE_DATA_POSSE  CD_GENERO  \\\n",
       "NR_IDADE_DATA_POSSE                 1.000000  -0.101835   \n",
       "CD_GENERO                          -0.101835   1.000000   \n",
       "VR_DESPESA_MAX_CAMPANHA             0.080565  -0.032523   \n",
       "\n",
       "                         VR_DESPESA_MAX_CAMPANHA  \n",
       "NR_IDADE_DATA_POSSE                     0.080565  \n",
       "CD_GENERO                              -0.032523  \n",
       "VR_DESPESA_MAX_CAMPANHA                 1.000000  "
      ]
     },
     "execution_count": 71,
     "metadata": {},
     "output_type": "execute_result"
    }
   ],
   "source": [
    "df_completo_2016_2020[[\"NR_IDADE_DATA_POSSE\", \"CD_GENERO\", \"VR_DESPESA_MAX_CAMPANHA\"]].corr(method='pearson')"
   ]
  }
 ],
 "metadata": {
  "colab": {
   "collapsed_sections": [],
   "name": "aula_aovivo.ipynb",
   "provenance": []
  },
  "kernelspec": {
   "display_name": "Python 3 (ipykernel)",
   "language": "python",
   "name": "python3"
  },
  "language_info": {
   "codemirror_mode": {
    "name": "ipython",
    "version": 3
   },
   "file_extension": ".py",
   "mimetype": "text/x-python",
   "name": "python",
   "nbconvert_exporter": "python",
   "pygments_lexer": "ipython3",
   "version": "3.9.13"
  }
 },
 "nbformat": 4,
 "nbformat_minor": 5
}
