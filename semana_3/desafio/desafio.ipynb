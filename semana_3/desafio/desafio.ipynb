{
 "cells": [
  {
   "cell_type": "markdown",
   "id": "4914c7df",
   "metadata": {
    "id": "bFYatS11gOtN"
   },
   "source": [
    "# Desafio\n",
    "\n",
    "Tente se desafiar um pouco fazendo os desafios extras. Qualquer dúvida, é só falar no grupo, estamos por aqui o/"
   ]
  },
  {
   "cell_type": "markdown",
   "id": "4ac55729",
   "metadata": {},
   "source": [
    "### 1) Acesse a api da camara, e recupere os reembolsos do ano de 2018"
   ]
  },
  {
   "cell_type": "code",
   "execution_count": 237,
   "id": "e335c8c7",
   "metadata": {
    "id": "H-ShSuQJ5ICY"
   },
   "outputs": [],
   "source": [
    "import requests\n",
    "from zipfile import ZipFile\n",
    "\n",
    "# fazendo o download do conteúdo do arquivo\n",
    "request = requests.get(\"http://www.camara.leg.br/cotas/Ano-2018.csv.zip\")\n",
    "\n",
    "url = f\"http://www.camara.leg.br/cotas/Ano-2018.csv.zip\"\n",
    "request = requests.get(url)\n",
    "\n",
    "file = open(f\"Ano-2018.csv.zip\", \"wb\")\n",
    "file.write(request.content)\n",
    "file.close()\n",
    "\n",
    "# zip_file = ZipFile(f\"Ano-2018.csv.zip\", \"r\")\n",
    "# zip_file.extract(member=f\"Ano-2018.csv\", path=f\"reembolso-2018\")\n",
    "# zip_file.close()"
   ]
  },
  {
   "cell_type": "markdown",
   "id": "e7244afa",
   "metadata": {
    "id": "9V6UrEjQiS4S"
   },
   "source": [
    "### 2) Leia o Arquivo csv "
   ]
  },
  {
   "cell_type": "code",
   "execution_count": 256,
   "id": "55880b49",
   "metadata": {
    "id": "yalZ9LW96ONR",
    "scrolled": true
   },
   "outputs": [],
   "source": [
    "import pandas as pd\n",
    "\n",
    "pd.set_option('display.max_columns', None)\n",
    "\n",
    "DTYPE = {\n",
    "    \"cpf\": str,\n",
    "    \"txtCNPJCPF\": str,\n",
    "    \"vlrDocumento\": float,\n",
    "    \"vlrLiquido\": float,\n",
    "    \"vlrGlosa\": float\n",
    "}\n",
    "df_reembolso_2018 = pd.read_csv(\"Ano-2018.csv.zip\", delimiter=\";\", compression=\"zip\", dtype=DTYPE)"
   ]
  },
  {
   "cell_type": "markdown",
   "id": "04ac3026",
   "metadata": {},
   "source": [
    "### 3) Visualize 10 linhas aleatórias"
   ]
  },
  {
   "cell_type": "code",
   "execution_count": 257,
   "id": "fbde4877",
   "metadata": {},
   "outputs": [
    {
     "data": {
      "text/html": [
       "<div>\n",
       "<style scoped>\n",
       "    .dataframe tbody tr th:only-of-type {\n",
       "        vertical-align: middle;\n",
       "    }\n",
       "\n",
       "    .dataframe tbody tr th {\n",
       "        vertical-align: top;\n",
       "    }\n",
       "\n",
       "    .dataframe thead th {\n",
       "        text-align: right;\n",
       "    }\n",
       "</style>\n",
       "<table border=\"1\" class=\"dataframe\">\n",
       "  <thead>\n",
       "    <tr style=\"text-align: right;\">\n",
       "      <th></th>\n",
       "      <th>txNomeParlamentar</th>\n",
       "      <th>cpf</th>\n",
       "      <th>ideCadastro</th>\n",
       "      <th>nuCarteiraParlamentar</th>\n",
       "      <th>nuLegislatura</th>\n",
       "      <th>sgUF</th>\n",
       "      <th>sgPartido</th>\n",
       "      <th>codLegislatura</th>\n",
       "      <th>numSubCota</th>\n",
       "      <th>txtDescricao</th>\n",
       "      <th>numEspecificacaoSubCota</th>\n",
       "      <th>txtDescricaoEspecificacao</th>\n",
       "      <th>txtFornecedor</th>\n",
       "      <th>txtCNPJCPF</th>\n",
       "      <th>txtNumero</th>\n",
       "      <th>indTipoDocumento</th>\n",
       "      <th>datEmissao</th>\n",
       "      <th>vlrDocumento</th>\n",
       "      <th>vlrGlosa</th>\n",
       "      <th>vlrLiquido</th>\n",
       "      <th>numMes</th>\n",
       "      <th>numAno</th>\n",
       "      <th>numParcela</th>\n",
       "      <th>txtPassageiro</th>\n",
       "      <th>txtTrecho</th>\n",
       "      <th>numLote</th>\n",
       "      <th>numRessarcimento</th>\n",
       "      <th>datPagamentoRestituicao</th>\n",
       "      <th>vlrRestituicao</th>\n",
       "      <th>nuDeputadoId</th>\n",
       "      <th>ideDocumento</th>\n",
       "      <th>urlDocumento</th>\n",
       "    </tr>\n",
       "  </thead>\n",
       "  <tbody>\n",
       "    <tr>\n",
       "      <th>154422</th>\n",
       "      <td>JORGE CÔRTE REAL</td>\n",
       "      <td>NaN</td>\n",
       "      <td>160572.0</td>\n",
       "      <td>150.0</td>\n",
       "      <td>2015</td>\n",
       "      <td>PE</td>\n",
       "      <td>PTB</td>\n",
       "      <td>55</td>\n",
       "      <td>1</td>\n",
       "      <td>MANUTENÇÃO DE ESCRITÓRIO DE APOIO À ATIVIDADE ...</td>\n",
       "      <td>0</td>\n",
       "      <td>NaN</td>\n",
       "      <td>COMPESA</td>\n",
       "      <td>097.690.350/0016-4</td>\n",
       "      <td>78204399</td>\n",
       "      <td>0</td>\n",
       "      <td>2018-12-22T00:00:00</td>\n",
       "      <td>82.60</td>\n",
       "      <td>0.0</td>\n",
       "      <td>82.60</td>\n",
       "      <td>12</td>\n",
       "      <td>2018</td>\n",
       "      <td>0</td>\n",
       "      <td>NaN</td>\n",
       "      <td>NaN</td>\n",
       "      <td>1554041</td>\n",
       "      <td>NaN</td>\n",
       "      <td>NaN</td>\n",
       "      <td>NaN</td>\n",
       "      <td>2256</td>\n",
       "      <td>6737583</td>\n",
       "      <td>https://www.camara.leg.br/cota-parlamentar/doc...</td>\n",
       "    </tr>\n",
       "    <tr>\n",
       "      <th>65529</th>\n",
       "      <td>JOSÉ CARLOS ALELUIA</td>\n",
       "      <td>NaN</td>\n",
       "      <td>74553.0</td>\n",
       "      <td>207.0</td>\n",
       "      <td>2015</td>\n",
       "      <td>BA</td>\n",
       "      <td>DEM</td>\n",
       "      <td>55</td>\n",
       "      <td>10</td>\n",
       "      <td>TELEFONIA</td>\n",
       "      <td>0</td>\n",
       "      <td>NaN</td>\n",
       "      <td>RAMAL</td>\n",
       "      <td>000.000.000/0000-6</td>\n",
       "      <td>6727723</td>\n",
       "      <td>0</td>\n",
       "      <td>NaN</td>\n",
       "      <td>101.39</td>\n",
       "      <td>0.0</td>\n",
       "      <td>101.39</td>\n",
       "      <td>11</td>\n",
       "      <td>2018</td>\n",
       "      <td>0</td>\n",
       "      <td>NaN</td>\n",
       "      <td>NaN</td>\n",
       "      <td>0</td>\n",
       "      <td>0.0</td>\n",
       "      <td>NaN</td>\n",
       "      <td>NaN</td>\n",
       "      <td>678</td>\n",
       "      <td>0</td>\n",
       "      <td>NaN</td>\n",
       "    </tr>\n",
       "    <tr>\n",
       "      <th>58389</th>\n",
       "      <td>Paulo Pimenta</td>\n",
       "      <td>NaN</td>\n",
       "      <td>74400.0</td>\n",
       "      <td>513.0</td>\n",
       "      <td>2015</td>\n",
       "      <td>RS</td>\n",
       "      <td>PT</td>\n",
       "      <td>55</td>\n",
       "      <td>5</td>\n",
       "      <td>DIVULGAÇÃO DA ATIVIDADE PARLAMENTAR.</td>\n",
       "      <td>0</td>\n",
       "      <td>NaN</td>\n",
       "      <td>Fabiane Pereira Dos Santos -ME</td>\n",
       "      <td>215.674.750/0013-4</td>\n",
       "      <td>53</td>\n",
       "      <td>0</td>\n",
       "      <td>2018-11-09T00:00:00</td>\n",
       "      <td>9040.00</td>\n",
       "      <td>0.0</td>\n",
       "      <td>9040.00</td>\n",
       "      <td>10</td>\n",
       "      <td>2018</td>\n",
       "      <td>0</td>\n",
       "      <td>NaN</td>\n",
       "      <td>NaN</td>\n",
       "      <td>1538494</td>\n",
       "      <td>NaN</td>\n",
       "      <td>NaN</td>\n",
       "      <td>NaN</td>\n",
       "      <td>1642</td>\n",
       "      <td>6697001</td>\n",
       "      <td>https://www.camara.leg.br/cota-parlamentar/doc...</td>\n",
       "    </tr>\n",
       "    <tr>\n",
       "      <th>162169</th>\n",
       "      <td>Dimas Fabiano</td>\n",
       "      <td>NaN</td>\n",
       "      <td>160599.0</td>\n",
       "      <td>231.0</td>\n",
       "      <td>2015</td>\n",
       "      <td>MG</td>\n",
       "      <td>PP</td>\n",
       "      <td>55</td>\n",
       "      <td>999</td>\n",
       "      <td>PASSAGEM AÉREA - RPA</td>\n",
       "      <td>0</td>\n",
       "      <td>NaN</td>\n",
       "      <td>Cia Aérea - GOL</td>\n",
       "      <td>075.756.510/0015-9</td>\n",
       "      <td>Bilhete: 577TJJYKX</td>\n",
       "      <td>0</td>\n",
       "      <td>2018-12-04T00:00:00</td>\n",
       "      <td>1129.59</td>\n",
       "      <td>0.0</td>\n",
       "      <td>1129.59</td>\n",
       "      <td>12</td>\n",
       "      <td>2018</td>\n",
       "      <td>0</td>\n",
       "      <td>Dimas Fabiano</td>\n",
       "      <td>VCP/BSB/VCP</td>\n",
       "      <td>0</td>\n",
       "      <td>0.0</td>\n",
       "      <td>NaN</td>\n",
       "      <td>NaN</td>\n",
       "      <td>2356</td>\n",
       "      <td>1624070</td>\n",
       "      <td>NaN</td>\n",
       "    </tr>\n",
       "    <tr>\n",
       "      <th>138553</th>\n",
       "      <td>RONALDO BENEDET</td>\n",
       "      <td>NaN</td>\n",
       "      <td>160515.0</td>\n",
       "      <td>484.0</td>\n",
       "      <td>2015</td>\n",
       "      <td>SC</td>\n",
       "      <td>MDB</td>\n",
       "      <td>55</td>\n",
       "      <td>122</td>\n",
       "      <td>SERVIÇO DE TÁXI, PEDÁGIO E ESTACIONAMENTO</td>\n",
       "      <td>0</td>\n",
       "      <td>NaN</td>\n",
       "      <td>AUTO PISTA LITORAL SUL S.A.</td>\n",
       "      <td>093.139.690/0019-7</td>\n",
       "      <td>RDG4CF4GL427</td>\n",
       "      <td>1</td>\n",
       "      <td>2018-10-29T00:00:00</td>\n",
       "      <td>2.70</td>\n",
       "      <td>0.0</td>\n",
       "      <td>2.70</td>\n",
       "      <td>10</td>\n",
       "      <td>2018</td>\n",
       "      <td>0</td>\n",
       "      <td>NaN</td>\n",
       "      <td>NaN</td>\n",
       "      <td>1547246</td>\n",
       "      <td>NaN</td>\n",
       "      <td>NaN</td>\n",
       "      <td>NaN</td>\n",
       "      <td>2354</td>\n",
       "      <td>6720208</td>\n",
       "      <td>https://www.camara.leg.br/cota-parlamentar/doc...</td>\n",
       "    </tr>\n",
       "    <tr>\n",
       "      <th>62286</th>\n",
       "      <td>MARCONDES GADELHA</td>\n",
       "      <td>NaN</td>\n",
       "      <td>74470.0</td>\n",
       "      <td>561.0</td>\n",
       "      <td>2015</td>\n",
       "      <td>PB</td>\n",
       "      <td>PSC</td>\n",
       "      <td>55</td>\n",
       "      <td>1</td>\n",
       "      <td>MANUTENÇÃO DE ESCRITÓRIO DE APOIO À ATIVIDADE ...</td>\n",
       "      <td>0</td>\n",
       "      <td>NaN</td>\n",
       "      <td>WMS COMERCIO DE ARTIGOS DE PAPELARIA LTDA-ME</td>\n",
       "      <td>121.328.540/0010-0</td>\n",
       "      <td>1203</td>\n",
       "      <td>4</td>\n",
       "      <td>2018-07-31T00:00:00</td>\n",
       "      <td>499.95</td>\n",
       "      <td>0.0</td>\n",
       "      <td>499.95</td>\n",
       "      <td>7</td>\n",
       "      <td>2018</td>\n",
       "      <td>0</td>\n",
       "      <td>NaN</td>\n",
       "      <td>NaN</td>\n",
       "      <td>1518171</td>\n",
       "      <td>NaN</td>\n",
       "      <td>NaN</td>\n",
       "      <td>NaN</td>\n",
       "      <td>1321</td>\n",
       "      <td>6638994</td>\n",
       "      <td>https://www.camara.leg.br/cota-parlamentar/not...</td>\n",
       "    </tr>\n",
       "    <tr>\n",
       "      <th>22423</th>\n",
       "      <td>Benedita da Silva</td>\n",
       "      <td>NaN</td>\n",
       "      <td>73701.0</td>\n",
       "      <td>291.0</td>\n",
       "      <td>2015</td>\n",
       "      <td>RJ</td>\n",
       "      <td>PT</td>\n",
       "      <td>55</td>\n",
       "      <td>10</td>\n",
       "      <td>TELEFONIA</td>\n",
       "      <td>0</td>\n",
       "      <td>NaN</td>\n",
       "      <td>Oi S.A</td>\n",
       "      <td>765.357.640/0014-3</td>\n",
       "      <td>000759610</td>\n",
       "      <td>0</td>\n",
       "      <td>2018-10-22T00:00:00</td>\n",
       "      <td>154.76</td>\n",
       "      <td>0.0</td>\n",
       "      <td>154.76</td>\n",
       "      <td>11</td>\n",
       "      <td>2018</td>\n",
       "      <td>0</td>\n",
       "      <td>NaN</td>\n",
       "      <td>NaN</td>\n",
       "      <td>1536841</td>\n",
       "      <td>NaN</td>\n",
       "      <td>NaN</td>\n",
       "      <td>NaN</td>\n",
       "      <td>188</td>\n",
       "      <td>6693071</td>\n",
       "      <td>https://www.camara.leg.br/cota-parlamentar/doc...</td>\n",
       "    </tr>\n",
       "    <tr>\n",
       "      <th>150531</th>\n",
       "      <td>Alceu Moreira</td>\n",
       "      <td>NaN</td>\n",
       "      <td>160559.0</td>\n",
       "      <td>486.0</td>\n",
       "      <td>2015</td>\n",
       "      <td>RS</td>\n",
       "      <td>MDB</td>\n",
       "      <td>55</td>\n",
       "      <td>8</td>\n",
       "      <td>SERVIÇO DE SEGURANÇA PRESTADO POR EMPRESA ESPE...</td>\n",
       "      <td>0</td>\n",
       "      <td>NaN</td>\n",
       "      <td>combate</td>\n",
       "      <td>083.629.810/0012-9</td>\n",
       "      <td>2018135</td>\n",
       "      <td>0</td>\n",
       "      <td>2018-06-25T00:00:00</td>\n",
       "      <td>150.00</td>\n",
       "      <td>0.0</td>\n",
       "      <td>150.00</td>\n",
       "      <td>6</td>\n",
       "      <td>2018</td>\n",
       "      <td>0</td>\n",
       "      <td>NaN</td>\n",
       "      <td>NaN</td>\n",
       "      <td>1513390</td>\n",
       "      <td>NaN</td>\n",
       "      <td>NaN</td>\n",
       "      <td>NaN</td>\n",
       "      <td>2379</td>\n",
       "      <td>6627843</td>\n",
       "      <td>https://www.camara.leg.br/cota-parlamentar/doc...</td>\n",
       "    </tr>\n",
       "    <tr>\n",
       "      <th>228746</th>\n",
       "      <td>CAIO NARCIO</td>\n",
       "      <td>NaN</td>\n",
       "      <td>178891.0</td>\n",
       "      <td>225.0</td>\n",
       "      <td>2015</td>\n",
       "      <td>MG</td>\n",
       "      <td>PSDB</td>\n",
       "      <td>55</td>\n",
       "      <td>11</td>\n",
       "      <td>SERVIÇOS POSTAIS</td>\n",
       "      <td>0</td>\n",
       "      <td>NaN</td>\n",
       "      <td>CORREIOS - SEDEX CONVENCIONAL</td>\n",
       "      <td>000.000.000/0000-7</td>\n",
       "      <td>RSP : 2255736</td>\n",
       "      <td>1</td>\n",
       "      <td>2018-09-04T12:00:35</td>\n",
       "      <td>40.23</td>\n",
       "      <td>0.0</td>\n",
       "      <td>40.23</td>\n",
       "      <td>9</td>\n",
       "      <td>2018</td>\n",
       "      <td>0</td>\n",
       "      <td>NaN</td>\n",
       "      <td>NaN</td>\n",
       "      <td>0</td>\n",
       "      <td>0.0</td>\n",
       "      <td>NaN</td>\n",
       "      <td>NaN</td>\n",
       "      <td>2990</td>\n",
       "      <td>0</td>\n",
       "      <td>NaN</td>\n",
       "    </tr>\n",
       "    <tr>\n",
       "      <th>275516</th>\n",
       "      <td>Luiz Lauro Filho</td>\n",
       "      <td>NaN</td>\n",
       "      <td>178982.0</td>\n",
       "      <td>550.0</td>\n",
       "      <td>2015</td>\n",
       "      <td>SP</td>\n",
       "      <td>PSDB</td>\n",
       "      <td>55</td>\n",
       "      <td>122</td>\n",
       "      <td>SERVIÇO DE TÁXI, PEDÁGIO E ESTACIONAMENTO</td>\n",
       "      <td>0</td>\n",
       "      <td>NaN</td>\n",
       "      <td>AUTOVIAS S/A</td>\n",
       "      <td>026.791.850/0013-8</td>\n",
       "      <td>002747</td>\n",
       "      <td>1</td>\n",
       "      <td>2018-06-23T00:00:00</td>\n",
       "      <td>7.10</td>\n",
       "      <td>0.0</td>\n",
       "      <td>7.10</td>\n",
       "      <td>6</td>\n",
       "      <td>2018</td>\n",
       "      <td>0</td>\n",
       "      <td>NaN</td>\n",
       "      <td>NaN</td>\n",
       "      <td>1513366</td>\n",
       "      <td>NaN</td>\n",
       "      <td>NaN</td>\n",
       "      <td>NaN</td>\n",
       "      <td>3052</td>\n",
       "      <td>6627973</td>\n",
       "      <td>https://www.camara.leg.br/cota-parlamentar/doc...</td>\n",
       "    </tr>\n",
       "  </tbody>\n",
       "</table>\n",
       "</div>"
      ],
      "text/plain": [
       "          txNomeParlamentar  cpf  ideCadastro  nuCarteiraParlamentar  \\\n",
       "154422     JORGE CÔRTE REAL  NaN     160572.0                  150.0   \n",
       "65529   JOSÉ CARLOS ALELUIA  NaN      74553.0                  207.0   \n",
       "58389         Paulo Pimenta  NaN      74400.0                  513.0   \n",
       "162169        Dimas Fabiano  NaN     160599.0                  231.0   \n",
       "138553      RONALDO BENEDET  NaN     160515.0                  484.0   \n",
       "62286     MARCONDES GADELHA  NaN      74470.0                  561.0   \n",
       "22423     Benedita da Silva  NaN      73701.0                  291.0   \n",
       "150531        Alceu Moreira  NaN     160559.0                  486.0   \n",
       "228746          CAIO NARCIO  NaN     178891.0                  225.0   \n",
       "275516     Luiz Lauro Filho  NaN     178982.0                  550.0   \n",
       "\n",
       "        nuLegislatura sgUF sgPartido  codLegislatura  numSubCota  \\\n",
       "154422           2015   PE       PTB              55           1   \n",
       "65529            2015   BA       DEM              55          10   \n",
       "58389            2015   RS        PT              55           5   \n",
       "162169           2015   MG        PP              55         999   \n",
       "138553           2015   SC       MDB              55         122   \n",
       "62286            2015   PB       PSC              55           1   \n",
       "22423            2015   RJ        PT              55          10   \n",
       "150531           2015   RS       MDB              55           8   \n",
       "228746           2015   MG      PSDB              55          11   \n",
       "275516           2015   SP      PSDB              55         122   \n",
       "\n",
       "                                             txtDescricao  \\\n",
       "154422  MANUTENÇÃO DE ESCRITÓRIO DE APOIO À ATIVIDADE ...   \n",
       "65529                                           TELEFONIA   \n",
       "58389                DIVULGAÇÃO DA ATIVIDADE PARLAMENTAR.   \n",
       "162169                               PASSAGEM AÉREA - RPA   \n",
       "138553          SERVIÇO DE TÁXI, PEDÁGIO E ESTACIONAMENTO   \n",
       "62286   MANUTENÇÃO DE ESCRITÓRIO DE APOIO À ATIVIDADE ...   \n",
       "22423                                           TELEFONIA   \n",
       "150531  SERVIÇO DE SEGURANÇA PRESTADO POR EMPRESA ESPE...   \n",
       "228746                                   SERVIÇOS POSTAIS   \n",
       "275516          SERVIÇO DE TÁXI, PEDÁGIO E ESTACIONAMENTO   \n",
       "\n",
       "        numEspecificacaoSubCota txtDescricaoEspecificacao  \\\n",
       "154422                        0                       NaN   \n",
       "65529                         0                       NaN   \n",
       "58389                         0                       NaN   \n",
       "162169                        0                       NaN   \n",
       "138553                        0                       NaN   \n",
       "62286                         0                       NaN   \n",
       "22423                         0                       NaN   \n",
       "150531                        0                       NaN   \n",
       "228746                        0                       NaN   \n",
       "275516                        0                       NaN   \n",
       "\n",
       "                                       txtFornecedor          txtCNPJCPF  \\\n",
       "154422                                       COMPESA  097.690.350/0016-4   \n",
       "65529                                          RAMAL  000.000.000/0000-6   \n",
       "58389                 Fabiane Pereira Dos Santos -ME  215.674.750/0013-4   \n",
       "162169                               Cia Aérea - GOL  075.756.510/0015-9   \n",
       "138553                   AUTO PISTA LITORAL SUL S.A.  093.139.690/0019-7   \n",
       "62286   WMS COMERCIO DE ARTIGOS DE PAPELARIA LTDA-ME  121.328.540/0010-0   \n",
       "22423                                         Oi S.A  765.357.640/0014-3   \n",
       "150531                                       combate  083.629.810/0012-9   \n",
       "228746                 CORREIOS - SEDEX CONVENCIONAL  000.000.000/0000-7   \n",
       "275516                                  AUTOVIAS S/A  026.791.850/0013-8   \n",
       "\n",
       "                 txtNumero  indTipoDocumento           datEmissao  \\\n",
       "154422            78204399                 0  2018-12-22T00:00:00   \n",
       "65529              6727723                 0                  NaN   \n",
       "58389                   53                 0  2018-11-09T00:00:00   \n",
       "162169  Bilhete: 577TJJYKX                 0  2018-12-04T00:00:00   \n",
       "138553        RDG4CF4GL427                 1  2018-10-29T00:00:00   \n",
       "62286                 1203                 4  2018-07-31T00:00:00   \n",
       "22423            000759610                 0  2018-10-22T00:00:00   \n",
       "150531             2018135                 0  2018-06-25T00:00:00   \n",
       "228746       RSP : 2255736                 1  2018-09-04T12:00:35   \n",
       "275516              002747                 1  2018-06-23T00:00:00   \n",
       "\n",
       "        vlrDocumento  vlrGlosa  vlrLiquido  numMes  numAno  numParcela  \\\n",
       "154422         82.60       0.0       82.60      12    2018           0   \n",
       "65529         101.39       0.0      101.39      11    2018           0   \n",
       "58389        9040.00       0.0     9040.00      10    2018           0   \n",
       "162169       1129.59       0.0     1129.59      12    2018           0   \n",
       "138553          2.70       0.0        2.70      10    2018           0   \n",
       "62286         499.95       0.0      499.95       7    2018           0   \n",
       "22423         154.76       0.0      154.76      11    2018           0   \n",
       "150531        150.00       0.0      150.00       6    2018           0   \n",
       "228746         40.23       0.0       40.23       9    2018           0   \n",
       "275516          7.10       0.0        7.10       6    2018           0   \n",
       "\n",
       "        txtPassageiro    txtTrecho  numLote  numRessarcimento  \\\n",
       "154422            NaN          NaN  1554041               NaN   \n",
       "65529             NaN          NaN        0               0.0   \n",
       "58389             NaN          NaN  1538494               NaN   \n",
       "162169  Dimas Fabiano  VCP/BSB/VCP        0               0.0   \n",
       "138553            NaN          NaN  1547246               NaN   \n",
       "62286             NaN          NaN  1518171               NaN   \n",
       "22423             NaN          NaN  1536841               NaN   \n",
       "150531            NaN          NaN  1513390               NaN   \n",
       "228746            NaN          NaN        0               0.0   \n",
       "275516            NaN          NaN  1513366               NaN   \n",
       "\n",
       "       datPagamentoRestituicao  vlrRestituicao  nuDeputadoId  ideDocumento  \\\n",
       "154422                     NaN             NaN          2256       6737583   \n",
       "65529                      NaN             NaN           678             0   \n",
       "58389                      NaN             NaN          1642       6697001   \n",
       "162169                     NaN             NaN          2356       1624070   \n",
       "138553                     NaN             NaN          2354       6720208   \n",
       "62286                      NaN             NaN          1321       6638994   \n",
       "22423                      NaN             NaN           188       6693071   \n",
       "150531                     NaN             NaN          2379       6627843   \n",
       "228746                     NaN             NaN          2990             0   \n",
       "275516                     NaN             NaN          3052       6627973   \n",
       "\n",
       "                                             urlDocumento  \n",
       "154422  https://www.camara.leg.br/cota-parlamentar/doc...  \n",
       "65529                                                 NaN  \n",
       "58389   https://www.camara.leg.br/cota-parlamentar/doc...  \n",
       "162169                                                NaN  \n",
       "138553  https://www.camara.leg.br/cota-parlamentar/doc...  \n",
       "62286   https://www.camara.leg.br/cota-parlamentar/not...  \n",
       "22423   https://www.camara.leg.br/cota-parlamentar/doc...  \n",
       "150531  https://www.camara.leg.br/cota-parlamentar/doc...  \n",
       "228746                                                NaN  \n",
       "275516  https://www.camara.leg.br/cota-parlamentar/doc...  "
      ]
     },
     "execution_count": 257,
     "metadata": {},
     "output_type": "execute_result"
    }
   ],
   "source": [
    "df_reembolso_2018.sample(10)"
   ]
  },
  {
   "cell_type": "markdown",
   "id": "be0725bb",
   "metadata": {
    "id": "3LhB4RCUVMm7"
   },
   "source": [
    "### 4) Existem registros com `ideDocumento` nulo?"
   ]
  },
  {
   "cell_type": "code",
   "execution_count": 240,
   "id": "bc915fec",
   "metadata": {},
   "outputs": [
    {
     "data": {
      "text/plain": [
       "0"
      ]
     },
     "execution_count": 240,
     "metadata": {},
     "output_type": "execute_result"
    }
   ],
   "source": [
    "df_reembolso_2018[df_reembolso_2018.ideDocumento.isna()].shape[0]"
   ]
  },
  {
   "cell_type": "markdown",
   "id": "f048cb6e",
   "metadata": {},
   "source": [
    "### 5) Converta a coluna `datEmissao` para `datetime`, e descubra quantos reembolsos aconteram no primeiro semestre de 2018"
   ]
  },
  {
   "cell_type": "code",
   "execution_count": 241,
   "id": "841f51c2",
   "metadata": {},
   "outputs": [
    {
     "data": {
      "text/plain": [
       "159694"
      ]
     },
     "execution_count": 241,
     "metadata": {},
     "output_type": "execute_result"
    }
   ],
   "source": [
    "df_reembolso_2018[\"datEmissao\"] = pd.to_datetime(df_reembolso_2018.datEmissao)\n",
    "df_reembolso_2018[\"datEmissao\"] = pd.to_datetime(df_reembolso_2018.datEmissao, format=\"%Y-%m-%d\")\n",
    "df_reembolso_2018_ps = df_reembolso_2018.set_index(\"datEmissao\").loc[\"2018-01-01\":\"2018-06-30\"]\n",
    "df_reembolso_2018_ps.shape[0]\n"
   ]
  },
  {
   "cell_type": "markdown",
   "id": "f5f7801b",
   "metadata": {},
   "source": [
    "#### [Desafio Extra] Existem registros com `datEmissao` nulos? Se sim, quantos?"
   ]
  },
  {
   "cell_type": "code",
   "execution_count": 242,
   "id": "87026a4c",
   "metadata": {},
   "outputs": [
    {
     "data": {
      "text/plain": [
       "10043"
      ]
     },
     "execution_count": 242,
     "metadata": {},
     "output_type": "execute_result"
    }
   ],
   "source": [
    "df_reembolso_2018[df_reembolso_2018.datEmissao.isna()].shape[0]"
   ]
  },
  {
   "cell_type": "markdown",
   "id": "5a2d2e56",
   "metadata": {},
   "source": [
    "#### [Desafio Extra] Existem registros de outros anos no arquivo de 2018? Se sim, quais anos e quantos registros há nessas datas?"
   ]
  },
  {
   "cell_type": "code",
   "execution_count": 243,
   "id": "bd0f4fe8",
   "metadata": {},
   "outputs": [
    {
     "data": {
      "text/plain": [
       "11835"
      ]
     },
     "execution_count": 243,
     "metadata": {},
     "output_type": "execute_result"
    }
   ],
   "source": [
    "df_reembolso_2018[df_reembolso_2018.datEmissao.dt.year != 2018].shape[0]"
   ]
  },
  {
   "cell_type": "markdown",
   "id": "c45d303f",
   "metadata": {},
   "source": [
    "### 6) Quais os meses que mais tem solicitação de reembolso?"
   ]
  },
  {
   "cell_type": "code",
   "execution_count": 244,
   "id": "86c1ab12",
   "metadata": {},
   "outputs": [
    {
     "data": {
      "text/plain": [
       "mesReembolso\n",
       "1.0     17893\n",
       "2.0     24232\n",
       "3.0     31349\n",
       "4.0     29288\n",
       "5.0     31099\n",
       "6.0     27448\n",
       "7.0     24971\n",
       "8.0     20323\n",
       "9.0     10560\n",
       "10.0    21670\n",
       "11.0    23578\n",
       "12.0    20336\n",
       "Name: mesReembolso, dtype: int64"
      ]
     },
     "execution_count": 244,
     "metadata": {},
     "output_type": "execute_result"
    }
   ],
   "source": [
    "df_reembolso_2018[\"mesReembolso\"] = df_reembolso_2018.datEmissao.dt.month\n",
    "df_reembolso_2018.groupby(\"mesReembolso\")[\"mesReembolso\"].count()"
   ]
  },
  {
   "cell_type": "markdown",
   "id": "cdf80d6c",
   "metadata": {},
   "source": [
    "#### [Desafio Extra] Como seria para agrupar os dados no formato `mes/ano` , ao invés de apenas mês?"
   ]
  },
  {
   "cell_type": "code",
   "execution_count": 245,
   "id": "7c9b6a14",
   "metadata": {},
   "outputs": [
    {
     "data": {
      "text/plain": [
       "mesAnoReembolso\n",
       "3/2018     31336\n",
       "5/2018     31099\n",
       "4/2018     29288\n",
       "6/2018     27448\n",
       "7/2018     24969\n",
       "2/2018     24122\n",
       "11/2018    23563\n",
       "10/2018    21668\n",
       "8/2018     20323\n",
       "12/2018    20178\n",
       "1/2018     16401\n",
       "9/2018     10560\n",
       "nan/nan    10043\n",
       "1/2019      1492\n",
       "12/2017      158\n",
       "2/2019       110\n",
       "11/2017       15\n",
       "3/2019        11\n",
       "7/2017         2\n",
       "10/2017        2\n",
       "3/2017         2\n",
       "Name: mesAnoReembolso, dtype: int64"
      ]
     },
     "execution_count": 245,
     "metadata": {},
     "output_type": "execute_result"
    }
   ],
   "source": [
    "df_reembolso_2018[\"mesAnoReembolso\"] = df_reembolso_2018.datEmissao.apply(lambda x: f\"{x.month}/{x.year}\")\n",
    "df_reembolso_2018.groupby(\"mesAnoReembolso\")[\"mesAnoReembolso\"].count().sort_values(ascending=False)"
   ]
  },
  {
   "cell_type": "markdown",
   "id": "a98577da",
   "metadata": {},
   "source": [
    "### 7) Limpe a coluna `txtCNPJCPF`: ela deve conter somente dígitos numéricos"
   ]
  },
  {
   "cell_type": "code",
   "execution_count": 246,
   "id": "72548aa5",
   "metadata": {},
   "outputs": [
    {
     "data": {
      "text/plain": [
       "0         04644820000177\n",
       "1         24648970000166\n",
       "2         36756435000108\n",
       "3         29286545000198\n",
       "4         29286545000198\n",
       "               ...      \n",
       "292785    00000000000006\n",
       "292786    00982933000121\n",
       "292787    27402097000115\n",
       "292788    02214932000162\n",
       "292789    02012862000160\n",
       "Name: txtCNPJCPF, Length: 292790, dtype: object"
      ]
     },
     "execution_count": 246,
     "metadata": {},
     "output_type": "execute_result"
    }
   ],
   "source": [
    "# vamos trocar qualquer caracter que não seja um dígito número por '', essa operação remove os dígitos\n",
    "df_reembolso_2018[\"txtCNPJCPF\"] = df_reembolso_2018[\"txtCNPJCPF\"].replace(to_replace=r'\\D', value='', regex=True)\n",
    "df_reembolso_2018[\"txtCNPJCPF\"]"
   ]
  },
  {
   "cell_type": "markdown",
   "id": "d5592506",
   "metadata": {},
   "source": [
    "### 8) Quais são os valores únicos do campo `indTipoDocumento`? Substitua o conteúdo pela respectiva legenda\n",
    "\n",
    "*Dica*: 0 (Zero), para Nota Fiscal; 1 (um), para Recibo; e 2, para Despesa no Exterior."
   ]
  },
  {
   "cell_type": "code",
   "execution_count": 247,
   "id": "1c9b5dcd",
   "metadata": {},
   "outputs": [
    {
     "data": {
      "text/plain": [
       "0              Outros\n",
       "1              Outros\n",
       "2              Outros\n",
       "3         Nota Fiscal\n",
       "4         Nota Fiscal\n",
       "             ...     \n",
       "292785    Nota Fiscal\n",
       "292786         Outros\n",
       "292787         Outros\n",
       "292788         Outros\n",
       "292789    Nota Fiscal\n",
       "Name: indTipoDocumento, Length: 292790, dtype: object"
      ]
     },
     "execution_count": 247,
     "metadata": {},
     "output_type": "execute_result"
    }
   ],
   "source": [
    "df_reembolso_2018[\"indTipoDocumento\"] = df_reembolso_2018[\"indTipoDocumento\"].replace(0, \"Nota Fiscal\")\n",
    "df_reembolso_2018[\"indTipoDocumento\"] = df_reembolso_2018[\"indTipoDocumento\"].replace(1, \"Recibo\")\n",
    "df_reembolso_2018[\"indTipoDocumento\"] = df_reembolso_2018[\"indTipoDocumento\"].replace(2, \"Despesa no Exterior\")\n",
    "df_reembolso_2018[\"indTipoDocumento\"] = df_reembolso_2018[\"indTipoDocumento\"].replace(4, \"Outros\")\n",
    "\n",
    "\n",
    "df_reembolso_2018[\"indTipoDocumento\"]"
   ]
  },
  {
   "cell_type": "markdown",
   "id": "ce8402aa",
   "metadata": {},
   "source": [
    "### [Desafio Extra] 9) Agrupe o valor total de despesas por fornecedor, mês e ano. Você encontrou algum padrão?"
   ]
  },
  {
   "cell_type": "code",
   "execution_count": 248,
   "id": "d7801327",
   "metadata": {},
   "outputs": [
    {
     "data": {
      "text/plain": [
       "txtFornecedor    mesReembolso  anoReembolso\n",
       "Cia Aérea - GOL  10.0          2018.0          2502925.52\n",
       "                 11.0          2018.0          2497405.47\n",
       "Cia Aérea - TAM  11.0          2018.0          2241271.59\n",
       "                 10.0          2018.0          2113908.99\n",
       "Cia Aérea - GOL  3.0           2018.0          2060594.25\n",
       "                 5.0           2018.0          2042906.57\n",
       "Cia Aérea - TAM  3.0           2018.0          1948712.47\n",
       "                 5.0           2018.0          1923575.38\n",
       "Cia Aérea - GOL  4.0           2018.0          1874972.70\n",
       "                 7.0           2018.0          1853015.07\n",
       "                 8.0           2018.0          1759640.03\n",
       "Cia Aérea - TAM  4.0           2018.0          1742572.82\n",
       "                 8.0           2018.0          1679026.14\n",
       "Cia Aérea - GOL  12.0          2018.0          1656338.27\n",
       "Cia Aérea - TAM  12.0          2018.0          1643291.82\n",
       "Cia Aérea - GOL  6.0           2018.0          1589525.37\n",
       "                 2.0           2018.0          1582381.00\n",
       "Cia Aérea - TAM  6.0           2018.0          1539945.19\n",
       "                 7.0           2018.0          1499349.67\n",
       "                 2.0           2018.0          1467356.59\n",
       "Name: vlrLiquido, dtype: float64"
      ]
     },
     "execution_count": 248,
     "metadata": {},
     "output_type": "execute_result"
    }
   ],
   "source": [
    "df_reembolso_2018[\"anoReembolso\"] = df_reembolso_2018.datEmissao.dt.year\n",
    "\n",
    "df_reembolso_2018.groupby([\"txtFornecedor\", \"mesReembolso\", \"anoReembolso\"])[\"vlrLiquido\"].sum().sort_values(ascending=False).head(20)"
   ]
  },
  {
   "cell_type": "markdown",
   "id": "5cf22688",
   "metadata": {},
   "source": [
    "### [Desafio Extra] 10) Quais os 10 parlamentares que mais solicitaram reembolso?"
   ]
  },
  {
   "cell_type": "code",
   "execution_count": 249,
   "id": "743e3925",
   "metadata": {},
   "outputs": [
    {
     "data": {
      "text/plain": [
       "txNomeParlamentar\n",
       "Jhonatan de Jesus     561401.20\n",
       "REMÍDIO MONAI         549060.53\n",
       "Jéssica Sales         547381.07\n",
       "Arlindo Chinaglia     545289.58\n",
       "CARLOS ANDRADE        544175.67\n",
       "Dagoberto Nogueira    536591.68\n",
       "MARIA HELENA          533031.37\n",
       "CÉSAR HALUM           532234.50\n",
       "ANGELIM               532082.43\n",
       "Flaviano Melo         531284.08\n",
       "Name: vlrLiquido, dtype: float64"
      ]
     },
     "execution_count": 249,
     "metadata": {},
     "output_type": "execute_result"
    }
   ],
   "source": [
    "df_reembolso_2018.groupby([\"txNomeParlamentar\"])[\"vlrLiquido\"].sum().sort_values(ascending=False).head(10)"
   ]
  },
  {
   "cell_type": "markdown",
   "id": "ada7feda",
   "metadata": {},
   "source": [
    "#### [Desafio Extra] Como ficaria a resposta, caso queiramos saber quais os seus estados e partidos?"
   ]
  },
  {
   "cell_type": "code",
   "execution_count": 250,
   "id": "054348d3",
   "metadata": {},
   "outputs": [
    {
     "data": {
      "text/plain": [
       "txNomeParlamentar   sgUF  sgPartido   \n",
       "Jhonatan de Jesus   RR    REPUBLICANOS    561401.20\n",
       "REMÍDIO MONAI       RR    PR              549060.53\n",
       "Jéssica Sales       AC    MDB             547381.07\n",
       "Arlindo Chinaglia   SP    PT              545289.58\n",
       "CARLOS ANDRADE      RR    PHS             544175.67\n",
       "Dagoberto Nogueira  MS    PSDB            536591.68\n",
       "MARIA HELENA        RR    MDB             533031.37\n",
       "CÉSAR HALUM         TO    PRB             532234.50\n",
       "ANGELIM             AC    PT              532082.43\n",
       "Flaviano Melo       AC    MDB             531284.08\n",
       "Name: vlrLiquido, dtype: float64"
      ]
     },
     "execution_count": 250,
     "metadata": {},
     "output_type": "execute_result"
    }
   ],
   "source": [
    "df_reembolso_2018.groupby([\"txNomeParlamentar\", \"sgUF\", \"sgPartido\"])[\"vlrLiquido\"].sum().sort_values(ascending=False).head(10)"
   ]
  },
  {
   "cell_type": "markdown",
   "id": "97afecd5",
   "metadata": {},
   "source": [
    "### [Desafio Extra] 11) Quais os partidos e os estados que mais solicitaram reembolso?"
   ]
  },
  {
   "cell_type": "code",
   "execution_count": 251,
   "id": "6b8131d8",
   "metadata": {},
   "outputs": [
    {
     "data": {
      "text/plain": [
       "sgUF  sgPartido   \n",
       "SP    PSDB            5086525.61\n",
       "      PT              4204384.33\n",
       "RS    PT              3342057.14\n",
       "MG    PT              3144037.20\n",
       "PR    PP              3138115.78\n",
       "BA    PT              3060487.05\n",
       "MG    PP              3050441.43\n",
       "      PSD             2933102.72\n",
       "SP    REPUBLICANOS    2891213.68\n",
       "RJ    PSD             2797116.93\n",
       "Name: vlrLiquido, dtype: float64"
      ]
     },
     "execution_count": 251,
     "metadata": {},
     "output_type": "execute_result"
    }
   ],
   "source": [
    "df_reembolso_2018.groupby([\"sgUF\", \"sgPartido\"])[\"vlrLiquido\"].sum().sort_values(ascending=False).head(10)"
   ]
  },
  {
   "cell_type": "markdown",
   "id": "48b6dd88",
   "metadata": {},
   "source": [
    "### [Desafio Extra] 12) Recupere os reembolsos de 2019 e acrescente aos dados de 2018"
   ]
  },
  {
   "cell_type": "code",
   "execution_count": 252,
   "id": "cf275d82",
   "metadata": {},
   "outputs": [],
   "source": [
    "import requests\n",
    "from zipfile import ZipFile\n",
    "\n",
    "# fazendo o download do conteúdo do arquivo\n",
    "request = requests.get(\"http://www.camara.leg.br/cotas/Ano-2019.csv.zip\")\n",
    "\n",
    "url = f\"http://www.camara.leg.br/cotas/Ano-2019.csv.zip\"\n",
    "request = requests.get(url)\n",
    "\n",
    "file = open(f\"Ano-2019.csv.zip\", \"wb\")\n",
    "file.write(request.content)\n",
    "file.close()\n",
    "\n",
    "# zip_file = ZipFile(f\"Ano-2019.csv.zip\", \"r\")\n",
    "# zip_file.extract(member=f\"Ano-2019.csv\", path=f\"reembolso-2019\")\n",
    "# zip_file.close()\n",
    "\n",
    "df_reembolso_2019 = pd.read_csv(\"Ano-2019.csv.zip\", delimiter=\";\", compression=\"zip\", dtype=DTYPE)\n",
    "\n",
    "df_reembolso_2018_2019 = pd.concat([df_reembolso_2018, df_reembolso_2019], ignore_index=True)\n",
    "\n",
    "df_reembolso_2018_2019[\"datEmissao\"] = pd.to_datetime(df_reembolso_2018_2019.datEmissao)\n",
    "df_reembolso_2018_2019[\"datEmissao\"] = pd.to_datetime(df_reembolso_2018_2019.datEmissao, format=\"%Y-%m-%d\")\n",
    "df_reembolso_2018_2019[\"mesReembolso\"] = df_reembolso_2018_2019.datEmissao.dt.month\n",
    "df_reembolso_2018_2019[\"anoReembolso\"] = df_reembolso_2018_2019.datEmissao.dt.year\n",
    "df_reembolso_2018_2019[\"mesAnoReembolso\"] = df_reembolso_2018_2019.datEmissao.apply(lambda x: f\"{x.month}/{x.year}\")\n",
    "\n"
   ]
  },
  {
   "cell_type": "markdown",
   "id": "3956e033",
   "metadata": {},
   "source": [
    "### [Desafio Extra] 13) Responda novamente as questões 9, 10 e 11. Houve alguma mudança nos resultados?"
   ]
  },
  {
   "cell_type": "code",
   "execution_count": 253,
   "id": "913dd2a1",
   "metadata": {},
   "outputs": [
    {
     "data": {
      "text/plain": [
       "txtFornecedor    mesReembolso  anoReembolso\n",
       "Cia Aérea - TAM  5.0           2019.0          2639382.96\n",
       "                 4.0           2019.0          2628222.82\n",
       "                 2.0           2019.0          2627533.35\n",
       "Cia Aérea - GOL  8.0           2019.0          2590982.64\n",
       "                 10.0          2019.0          2543745.80\n",
       "                               2018.0          2502925.52\n",
       "                 11.0          2018.0          2497405.47\n",
       "Cia Aérea - TAM  10.0          2019.0          2345078.00\n",
       "Cia Aérea - GOL  5.0           2019.0          2333780.91\n",
       "Cia Aérea - TAM  8.0           2019.0          2264387.35\n",
       "                 11.0          2018.0          2241271.59\n",
       "                 3.0           2019.0          2149116.09\n",
       "Cia Aérea - GOL  4.0           2019.0          2147877.73\n",
       "Cia Aérea - TAM  10.0          2018.0          2113908.99\n",
       "Cia Aérea - GOL  9.0           2019.0          2112975.98\n",
       "Cia Aérea - TAM  6.0           2019.0          2107350.63\n",
       "                 9.0           2019.0          2065295.10\n",
       "Cia Aérea - GOL  3.0           2018.0          2060594.25\n",
       "                 5.0           2018.0          2042906.57\n",
       "Cia Aérea - TAM  7.0           2019.0          1966147.81\n",
       "Name: vlrLiquido, dtype: float64"
      ]
     },
     "execution_count": 253,
     "metadata": {},
     "output_type": "execute_result"
    }
   ],
   "source": [
    "df_reembolso_2018_2019.groupby([\"txtFornecedor\", \"mesReembolso\", \"anoReembolso\"])[\"vlrLiquido\"].sum().sort_values(ascending=False).head(20)"
   ]
  },
  {
   "cell_type": "code",
   "execution_count": 254,
   "id": "5bcce6ae",
   "metadata": {},
   "outputs": [
    {
     "data": {
      "text/plain": [
       "txNomeParlamentar   sgUF  sgPartido   \n",
       "Jéssica Sales       AC    MDB             1084703.12\n",
       "Jhonatan de Jesus   RR    REPUBLICANOS    1077787.65\n",
       "Hiran Gonçalves     RR    PP              1063153.44\n",
       "Flaviano Melo       AC    MDB             1051355.53\n",
       "Rafael Motta        RN    PSB             1037232.85\n",
       "Hildo Rocha         MA    MDB             1036810.75\n",
       "André Abdon         AP    PP              1028589.54\n",
       "João Marcelo Souza  MA    MDB             1016659.56\n",
       "Luizianne Lins      CE    PT              1016105.42\n",
       "Beto Rosado         RN    PP              1013537.35\n",
       "Name: vlrLiquido, dtype: float64"
      ]
     },
     "execution_count": 254,
     "metadata": {},
     "output_type": "execute_result"
    }
   ],
   "source": [
    "df_reembolso_2018_2019.groupby([\"txNomeParlamentar\", \"sgUF\", \"sgPartido\"])[\"vlrLiquido\"].sum().sort_values(ascending=False).head(10)"
   ]
  },
  {
   "cell_type": "code",
   "execution_count": 255,
   "id": "6f659ef0",
   "metadata": {},
   "outputs": [
    {
     "data": {
      "text/plain": [
       "sgUF  sgPartido   \n",
       "SP    PSDB            8162154.64\n",
       "      PT              7624879.71\n",
       "      PL              7056360.74\n",
       "MG    PT              6640933.71\n",
       "SP    REPUBLICANOS    6493318.78\n",
       "BA    PT              6213677.25\n",
       "PR    PP              5774348.24\n",
       "RS    PT              5748143.61\n",
       "RJ    PSD             5185575.24\n",
       "MG    PP              5166689.40\n",
       "Name: vlrLiquido, dtype: float64"
      ]
     },
     "execution_count": 255,
     "metadata": {},
     "output_type": "execute_result"
    }
   ],
   "source": [
    "df_reembolso_2018_2019.groupby([\"sgUF\", \"sgPartido\"])[\"vlrLiquido\"].sum().sort_values(ascending=False).head(10)"
   ]
  }
 ],
 "metadata": {
  "kernelspec": {
   "display_name": "Python 3 (ipykernel)",
   "language": "python",
   "name": "python3"
  },
  "language_info": {
   "codemirror_mode": {
    "name": "ipython",
    "version": 3
   },
   "file_extension": ".py",
   "mimetype": "text/x-python",
   "name": "python",
   "nbconvert_exporter": "python",
   "pygments_lexer": "ipython3",
   "version": "3.9.13"
  },
  "toc": {
   "base_numbering": 1,
   "nav_menu": {},
   "number_sections": true,
   "sideBar": true,
   "skip_h1_title": false,
   "title_cell": "Table of Contents",
   "title_sidebar": "Contents",
   "toc_cell": false,
   "toc_position": {
    "height": "calc(100% - 180px)",
    "left": "10px",
    "top": "150px",
    "width": "165px"
   },
   "toc_section_display": true,
   "toc_window_display": true
  }
 },
 "nbformat": 4,
 "nbformat_minor": 5
}
