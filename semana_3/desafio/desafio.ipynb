{
 "cells": [
  {
   "cell_type": "markdown",
   "id": "4914c7df",
   "metadata": {
    "id": "bFYatS11gOtN"
   },
   "source": [
    "# Desafio\n",
    "\n",
    "Tente se desafiar um pouco fazendo os desafios extras. Qualquer dúvida, é só falar no grupo, estamos por aqui o/"
   ]
  },
  {
   "cell_type": "markdown",
   "id": "4ac55729",
   "metadata": {},
   "source": [
    "### 1) Acesse a api da camara, e recupere os reembolsos do ano de 2018"
   ]
  },
  {
   "cell_type": "code",
   "execution_count": 237,
   "id": "e335c8c7",
   "metadata": {
    "id": "H-ShSuQJ5ICY"
   },
   "outputs": [],
   "source": [
    "import requests\n",
    "from zipfile import ZipFile\n",
    "\n",
    "# fazendo o download do conteúdo do arquivo\n",
    "request = requests.get(\"http://www.camara.leg.br/cotas/Ano-2018.csv.zip\")\n",
    "\n",
    "url = f\"http://www.camara.leg.br/cotas/Ano-2018.csv.zip\"\n",
    "request = requests.get(url)\n",
    "\n",
    "file = open(f\"Ano-2018.csv.zip\", \"wb\")\n",
    "file.write(request.content)\n",
    "file.close()\n",
    "\n",
    "zip_file = ZipFile(f\"Ano-2018.csv.zip\", \"r\")\n",
    "zip_file.extract(member=f\"Ano-2018.csv\", path=f\"reembolso-2018\")\n",
    "zip_file.close()"
   ]
  },
  {
   "cell_type": "markdown",
   "id": "e7244afa",
   "metadata": {
    "id": "9V6UrEjQiS4S"
   },
   "source": [
    "### 2) Leia o Arquivo csv "
   ]
  },
  {
   "cell_type": "code",
   "execution_count": 238,
   "id": "55880b49",
   "metadata": {
    "id": "yalZ9LW96ONR",
    "scrolled": true
   },
   "outputs": [],
   "source": [
    "import pandas as pd\n",
    "\n",
    "pd.set_option('display.max_columns', None)\n",
    "\n",
    "DTYPE = {\n",
    "    \"cpf\": str,\n",
    "    \"txtCNPJCPF\": str,\n",
    "    \"vlrDocumento\": float,\n",
    "    \"vlrLiquido\": float,\n",
    "    \"vlrGlosa\": float\n",
    "}\n",
    "df_reembolso_2018 = pd.read_csv(\"reembolso-2018/Ano-2018.csv\", delimiter=\";\", dtype=DTYPE)"
   ]
  },
  {
   "cell_type": "markdown",
   "id": "04ac3026",
   "metadata": {},
   "source": [
    "### 3) Visualize 10 linhas aleatórias"
   ]
  },
  {
   "cell_type": "code",
   "execution_count": 239,
   "id": "fbde4877",
   "metadata": {},
   "outputs": [
    {
     "data": {
      "text/html": [
       "<div>\n",
       "<style scoped>\n",
       "    .dataframe tbody tr th:only-of-type {\n",
       "        vertical-align: middle;\n",
       "    }\n",
       "\n",
       "    .dataframe tbody tr th {\n",
       "        vertical-align: top;\n",
       "    }\n",
       "\n",
       "    .dataframe thead th {\n",
       "        text-align: right;\n",
       "    }\n",
       "</style>\n",
       "<table border=\"1\" class=\"dataframe\">\n",
       "  <thead>\n",
       "    <tr style=\"text-align: right;\">\n",
       "      <th></th>\n",
       "      <th>txNomeParlamentar</th>\n",
       "      <th>cpf</th>\n",
       "      <th>ideCadastro</th>\n",
       "      <th>nuCarteiraParlamentar</th>\n",
       "      <th>nuLegislatura</th>\n",
       "      <th>sgUF</th>\n",
       "      <th>sgPartido</th>\n",
       "      <th>codLegislatura</th>\n",
       "      <th>numSubCota</th>\n",
       "      <th>txtDescricao</th>\n",
       "      <th>numEspecificacaoSubCota</th>\n",
       "      <th>txtDescricaoEspecificacao</th>\n",
       "      <th>txtFornecedor</th>\n",
       "      <th>txtCNPJCPF</th>\n",
       "      <th>txtNumero</th>\n",
       "      <th>indTipoDocumento</th>\n",
       "      <th>datEmissao</th>\n",
       "      <th>vlrDocumento</th>\n",
       "      <th>vlrGlosa</th>\n",
       "      <th>vlrLiquido</th>\n",
       "      <th>numMes</th>\n",
       "      <th>numAno</th>\n",
       "      <th>numParcela</th>\n",
       "      <th>txtPassageiro</th>\n",
       "      <th>txtTrecho</th>\n",
       "      <th>numLote</th>\n",
       "      <th>numRessarcimento</th>\n",
       "      <th>datPagamentoRestituicao</th>\n",
       "      <th>vlrRestituicao</th>\n",
       "      <th>nuDeputadoId</th>\n",
       "      <th>ideDocumento</th>\n",
       "      <th>urlDocumento</th>\n",
       "    </tr>\n",
       "  </thead>\n",
       "  <tbody>\n",
       "    <tr>\n",
       "      <th>62144</th>\n",
       "      <td>Damião Feliciano</td>\n",
       "      <td>NaN</td>\n",
       "      <td>74467.0</td>\n",
       "      <td>127.0</td>\n",
       "      <td>2015</td>\n",
       "      <td>PB</td>\n",
       "      <td>UNIÃO</td>\n",
       "      <td>55</td>\n",
       "      <td>999</td>\n",
       "      <td>PASSAGEM AÉREA - RPA</td>\n",
       "      <td>0</td>\n",
       "      <td>NaN</td>\n",
       "      <td>Cia Aérea - GOL</td>\n",
       "      <td>075.756.510/0015-9</td>\n",
       "      <td>Bilhete: ELSM6Q</td>\n",
       "      <td>0</td>\n",
       "      <td>2018-11-07T00:00:00</td>\n",
       "      <td>1671.47</td>\n",
       "      <td>0.0</td>\n",
       "      <td>1671.47</td>\n",
       "      <td>11</td>\n",
       "      <td>2018</td>\n",
       "      <td>0</td>\n",
       "      <td>Damião Feliciano</td>\n",
       "      <td>MGF/GRU/GIG/JPA</td>\n",
       "      <td>0</td>\n",
       "      <td>0.0</td>\n",
       "      <td>NaN</td>\n",
       "      <td>NaN</td>\n",
       "      <td>1318</td>\n",
       "      <td>1614647</td>\n",
       "      <td>NaN</td>\n",
       "    </tr>\n",
       "    <tr>\n",
       "      <th>103557</th>\n",
       "      <td>FELIPE MAIA</td>\n",
       "      <td>NaN</td>\n",
       "      <td>141429.0</td>\n",
       "      <td>120.0</td>\n",
       "      <td>2015</td>\n",
       "      <td>RN</td>\n",
       "      <td>DEM</td>\n",
       "      <td>55</td>\n",
       "      <td>3</td>\n",
       "      <td>COMBUSTÍVEIS E LUBRIFICANTES.</td>\n",
       "      <td>1</td>\n",
       "      <td>Veículos Automotores</td>\n",
       "      <td>PARELHAS GAS LTDA</td>\n",
       "      <td>242.066.170/0306-0</td>\n",
       "      <td>5399</td>\n",
       "      <td>4</td>\n",
       "      <td>2018-06-01T00:00:00</td>\n",
       "      <td>646.07</td>\n",
       "      <td>0.0</td>\n",
       "      <td>646.07</td>\n",
       "      <td>6</td>\n",
       "      <td>2018</td>\n",
       "      <td>0</td>\n",
       "      <td>NaN</td>\n",
       "      <td>NaN</td>\n",
       "      <td>1506185</td>\n",
       "      <td>NaN</td>\n",
       "      <td>NaN</td>\n",
       "      <td>NaN</td>\n",
       "      <td>1832</td>\n",
       "      <td>6608099</td>\n",
       "      <td>https://www.camara.leg.br/cota-parlamentar/not...</td>\n",
       "    </tr>\n",
       "    <tr>\n",
       "      <th>189996</th>\n",
       "      <td>RONALDO NOGUEIRA</td>\n",
       "      <td>NaN</td>\n",
       "      <td>163321.0</td>\n",
       "      <td>517.0</td>\n",
       "      <td>2015</td>\n",
       "      <td>RS</td>\n",
       "      <td>PTB</td>\n",
       "      <td>55</td>\n",
       "      <td>999</td>\n",
       "      <td>PASSAGEM AÉREA - RPA</td>\n",
       "      <td>0</td>\n",
       "      <td>NaN</td>\n",
       "      <td>Cia Aérea - TAM</td>\n",
       "      <td>020.128.620/0016-0</td>\n",
       "      <td>Bilhete: 957-2181.815648</td>\n",
       "      <td>0</td>\n",
       "      <td>2018-10-25T00:00:00</td>\n",
       "      <td>881.98</td>\n",
       "      <td>0.0</td>\n",
       "      <td>881.98</td>\n",
       "      <td>10</td>\n",
       "      <td>2018</td>\n",
       "      <td>0</td>\n",
       "      <td>DANIELLA MARTINS SILVA</td>\n",
       "      <td>POA/BSB</td>\n",
       "      <td>0</td>\n",
       "      <td>0.0</td>\n",
       "      <td>NaN</td>\n",
       "      <td>NaN</td>\n",
       "      <td>2428</td>\n",
       "      <td>1616341</td>\n",
       "      <td>NaN</td>\n",
       "    </tr>\n",
       "    <tr>\n",
       "      <th>81752</th>\n",
       "      <td>Stefano Aguiar</td>\n",
       "      <td>NaN</td>\n",
       "      <td>92776.0</td>\n",
       "      <td>267.0</td>\n",
       "      <td>2015</td>\n",
       "      <td>MG</td>\n",
       "      <td>PSD</td>\n",
       "      <td>55</td>\n",
       "      <td>999</td>\n",
       "      <td>PASSAGEM AÉREA - RPA</td>\n",
       "      <td>0</td>\n",
       "      <td>NaN</td>\n",
       "      <td>Cia Aérea - AZUL</td>\n",
       "      <td>092.962.950/0016-0</td>\n",
       "      <td>Bilhete: A67F6L</td>\n",
       "      <td>0</td>\n",
       "      <td>2018-06-18T00:00:00</td>\n",
       "      <td>1221.98</td>\n",
       "      <td>0.0</td>\n",
       "      <td>1221.98</td>\n",
       "      <td>6</td>\n",
       "      <td>2018</td>\n",
       "      <td>0</td>\n",
       "      <td>Stefano Aguiar</td>\n",
       "      <td>CNF/BSB/CNF</td>\n",
       "      <td>0</td>\n",
       "      <td>0.0</td>\n",
       "      <td>NaN</td>\n",
       "      <td>NaN</td>\n",
       "      <td>2430</td>\n",
       "      <td>1574522</td>\n",
       "      <td>NaN</td>\n",
       "    </tr>\n",
       "    <tr>\n",
       "      <th>4008</th>\n",
       "      <td>JÚLIA MARINHO</td>\n",
       "      <td>NaN</td>\n",
       "      <td>67312.0</td>\n",
       "      <td>34.0</td>\n",
       "      <td>2015</td>\n",
       "      <td>PA</td>\n",
       "      <td>PSC</td>\n",
       "      <td>55</td>\n",
       "      <td>3</td>\n",
       "      <td>COMBUSTÍVEIS E LUBRIFICANTES.</td>\n",
       "      <td>1</td>\n",
       "      <td>Veículos Automotores</td>\n",
       "      <td>AUTO POSTO MILLENNIUM 2000 LTDA</td>\n",
       "      <td>032.614.910/0070-8</td>\n",
       "      <td>27179</td>\n",
       "      <td>4</td>\n",
       "      <td>2018-05-15T00:00:00</td>\n",
       "      <td>50.00</td>\n",
       "      <td>0.0</td>\n",
       "      <td>50.00</td>\n",
       "      <td>5</td>\n",
       "      <td>2018</td>\n",
       "      <td>0</td>\n",
       "      <td>NaN</td>\n",
       "      <td>NaN</td>\n",
       "      <td>1496587</td>\n",
       "      <td>NaN</td>\n",
       "      <td>NaN</td>\n",
       "      <td>NaN</td>\n",
       "      <td>3054</td>\n",
       "      <td>6585266</td>\n",
       "      <td>https://www.camara.leg.br/cota-parlamentar/not...</td>\n",
       "    </tr>\n",
       "    <tr>\n",
       "      <th>83709</th>\n",
       "      <td>ERIVELTON SANTANA</td>\n",
       "      <td>NaN</td>\n",
       "      <td>99654.0</td>\n",
       "      <td>194.0</td>\n",
       "      <td>2015</td>\n",
       "      <td>BA</td>\n",
       "      <td>PATRI</td>\n",
       "      <td>55</td>\n",
       "      <td>3</td>\n",
       "      <td>COMBUSTÍVEIS E LUBRIFICANTES.</td>\n",
       "      <td>1</td>\n",
       "      <td>Veículos Automotores</td>\n",
       "      <td>POSTO DA TORRE EIRELI - EPP</td>\n",
       "      <td>044.731.930/0015-9</td>\n",
       "      <td>84259</td>\n",
       "      <td>4</td>\n",
       "      <td>2018-05-10T00:00:00</td>\n",
       "      <td>178.29</td>\n",
       "      <td>0.0</td>\n",
       "      <td>178.29</td>\n",
       "      <td>5</td>\n",
       "      <td>2018</td>\n",
       "      <td>0</td>\n",
       "      <td>NaN</td>\n",
       "      <td>NaN</td>\n",
       "      <td>1493601</td>\n",
       "      <td>NaN</td>\n",
       "      <td>NaN</td>\n",
       "      <td>NaN</td>\n",
       "      <td>2387</td>\n",
       "      <td>6576825</td>\n",
       "      <td>https://www.camara.leg.br/cota-parlamentar/not...</td>\n",
       "    </tr>\n",
       "    <tr>\n",
       "      <th>161308</th>\n",
       "      <td>Dimas Fabiano</td>\n",
       "      <td>NaN</td>\n",
       "      <td>160599.0</td>\n",
       "      <td>231.0</td>\n",
       "      <td>2015</td>\n",
       "      <td>MG</td>\n",
       "      <td>PP</td>\n",
       "      <td>55</td>\n",
       "      <td>10</td>\n",
       "      <td>TELEFONIA</td>\n",
       "      <td>0</td>\n",
       "      <td>NaN</td>\n",
       "      <td>TELEMAR NORTE LESTE S/A</td>\n",
       "      <td>330.001.180/0033-0</td>\n",
       "      <td>00002845449</td>\n",
       "      <td>0</td>\n",
       "      <td>2018-09-21T00:00:00</td>\n",
       "      <td>141.77</td>\n",
       "      <td>0.0</td>\n",
       "      <td>141.77</td>\n",
       "      <td>9</td>\n",
       "      <td>2018</td>\n",
       "      <td>0</td>\n",
       "      <td>NaN</td>\n",
       "      <td>NaN</td>\n",
       "      <td>1534115</td>\n",
       "      <td>NaN</td>\n",
       "      <td>NaN</td>\n",
       "      <td>NaN</td>\n",
       "      <td>2356</td>\n",
       "      <td>6685487</td>\n",
       "      <td>https://www.camara.leg.br/cota-parlamentar/doc...</td>\n",
       "    </tr>\n",
       "    <tr>\n",
       "      <th>219049</th>\n",
       "      <td>MACEDO</td>\n",
       "      <td>NaN</td>\n",
       "      <td>178867.0</td>\n",
       "      <td>104.0</td>\n",
       "      <td>2015</td>\n",
       "      <td>CE</td>\n",
       "      <td>PP</td>\n",
       "      <td>55</td>\n",
       "      <td>999</td>\n",
       "      <td>PASSAGEM AÉREA - RPA</td>\n",
       "      <td>0</td>\n",
       "      <td>NaN</td>\n",
       "      <td>Cia Aérea - AVIANCA</td>\n",
       "      <td>025.758.290/0014-8</td>\n",
       "      <td>Bilhete: 2435473588</td>\n",
       "      <td>0</td>\n",
       "      <td>2018-01-31T00:00:00</td>\n",
       "      <td>2159.78</td>\n",
       "      <td>0.0</td>\n",
       "      <td>2159.78</td>\n",
       "      <td>1</td>\n",
       "      <td>2018</td>\n",
       "      <td>0</td>\n",
       "      <td>MACEDO</td>\n",
       "      <td>FOR/BSB</td>\n",
       "      <td>0</td>\n",
       "      <td>0.0</td>\n",
       "      <td>NaN</td>\n",
       "      <td>NaN</td>\n",
       "      <td>3019</td>\n",
       "      <td>1524686</td>\n",
       "      <td>NaN</td>\n",
       "    </tr>\n",
       "    <tr>\n",
       "      <th>198016</th>\n",
       "      <td>Leo de Brito</td>\n",
       "      <td>NaN</td>\n",
       "      <td>178825.0</td>\n",
       "      <td>564.0</td>\n",
       "      <td>2015</td>\n",
       "      <td>AC</td>\n",
       "      <td>PT</td>\n",
       "      <td>55</td>\n",
       "      <td>10</td>\n",
       "      <td>TELEFONIA</td>\n",
       "      <td>0</td>\n",
       "      <td>NaN</td>\n",
       "      <td>RAMAL</td>\n",
       "      <td>000.000.000/0000-6</td>\n",
       "      <td>6482268</td>\n",
       "      <td>0</td>\n",
       "      <td>NaN</td>\n",
       "      <td>1.52</td>\n",
       "      <td>0.0</td>\n",
       "      <td>1.52</td>\n",
       "      <td>1</td>\n",
       "      <td>2018</td>\n",
       "      <td>0</td>\n",
       "      <td>NaN</td>\n",
       "      <td>NaN</td>\n",
       "      <td>0</td>\n",
       "      <td>0.0</td>\n",
       "      <td>NaN</td>\n",
       "      <td>NaN</td>\n",
       "      <td>2974</td>\n",
       "      <td>0</td>\n",
       "      <td>NaN</td>\n",
       "    </tr>\n",
       "    <tr>\n",
       "      <th>243908</th>\n",
       "      <td>Sebastião Oliveira</td>\n",
       "      <td>NaN</td>\n",
       "      <td>178921.0</td>\n",
       "      <td>159.0</td>\n",
       "      <td>2015</td>\n",
       "      <td>PE</td>\n",
       "      <td>AVANTE</td>\n",
       "      <td>55</td>\n",
       "      <td>9</td>\n",
       "      <td>PASSAGEM AÉREA - REEMBOLSO</td>\n",
       "      <td>0</td>\n",
       "      <td>NaN</td>\n",
       "      <td>GOL LINHAS AEREAS S.A.</td>\n",
       "      <td>075.756.510/0015-9</td>\n",
       "      <td>260700926</td>\n",
       "      <td>0</td>\n",
       "      <td>2018-05-14T00:00:00</td>\n",
       "      <td>1896.60</td>\n",
       "      <td>0.0</td>\n",
       "      <td>1896.60</td>\n",
       "      <td>5</td>\n",
       "      <td>2018</td>\n",
       "      <td>0</td>\n",
       "      <td>NaN</td>\n",
       "      <td>NaN</td>\n",
       "      <td>1494778</td>\n",
       "      <td>NaN</td>\n",
       "      <td>NaN</td>\n",
       "      <td>NaN</td>\n",
       "      <td>3067</td>\n",
       "      <td>6580216</td>\n",
       "      <td>https://www.camara.leg.br/cota-parlamentar/doc...</td>\n",
       "    </tr>\n",
       "  </tbody>\n",
       "</table>\n",
       "</div>"
      ],
      "text/plain": [
       "         txNomeParlamentar  cpf  ideCadastro  nuCarteiraParlamentar  \\\n",
       "62144     Damião Feliciano  NaN      74467.0                  127.0   \n",
       "103557         FELIPE MAIA  NaN     141429.0                  120.0   \n",
       "189996    RONALDO NOGUEIRA  NaN     163321.0                  517.0   \n",
       "81752       Stefano Aguiar  NaN      92776.0                  267.0   \n",
       "4008         JÚLIA MARINHO  NaN      67312.0                   34.0   \n",
       "83709    ERIVELTON SANTANA  NaN      99654.0                  194.0   \n",
       "161308       Dimas Fabiano  NaN     160599.0                  231.0   \n",
       "219049              MACEDO  NaN     178867.0                  104.0   \n",
       "198016        Leo de Brito  NaN     178825.0                  564.0   \n",
       "243908  Sebastião Oliveira  NaN     178921.0                  159.0   \n",
       "\n",
       "        nuLegislatura sgUF sgPartido  codLegislatura  numSubCota  \\\n",
       "62144            2015   PB     UNIÃO              55         999   \n",
       "103557           2015   RN       DEM              55           3   \n",
       "189996           2015   RS       PTB              55         999   \n",
       "81752            2015   MG       PSD              55         999   \n",
       "4008             2015   PA       PSC              55           3   \n",
       "83709            2015   BA     PATRI              55           3   \n",
       "161308           2015   MG        PP              55          10   \n",
       "219049           2015   CE        PP              55         999   \n",
       "198016           2015   AC        PT              55          10   \n",
       "243908           2015   PE    AVANTE              55           9   \n",
       "\n",
       "                         txtDescricao  numEspecificacaoSubCota  \\\n",
       "62144            PASSAGEM AÉREA - RPA                        0   \n",
       "103557  COMBUSTÍVEIS E LUBRIFICANTES.                        1   \n",
       "189996           PASSAGEM AÉREA - RPA                        0   \n",
       "81752            PASSAGEM AÉREA - RPA                        0   \n",
       "4008    COMBUSTÍVEIS E LUBRIFICANTES.                        1   \n",
       "83709   COMBUSTÍVEIS E LUBRIFICANTES.                        1   \n",
       "161308                      TELEFONIA                        0   \n",
       "219049           PASSAGEM AÉREA - RPA                        0   \n",
       "198016                      TELEFONIA                        0   \n",
       "243908     PASSAGEM AÉREA - REEMBOLSO                        0   \n",
       "\n",
       "       txtDescricaoEspecificacao                    txtFornecedor  \\\n",
       "62144                        NaN                  Cia Aérea - GOL   \n",
       "103557      Veículos Automotores                PARELHAS GAS LTDA   \n",
       "189996                       NaN                  Cia Aérea - TAM   \n",
       "81752                        NaN                 Cia Aérea - AZUL   \n",
       "4008        Veículos Automotores  AUTO POSTO MILLENNIUM 2000 LTDA   \n",
       "83709       Veículos Automotores      POSTO DA TORRE EIRELI - EPP   \n",
       "161308                       NaN          TELEMAR NORTE LESTE S/A   \n",
       "219049                       NaN              Cia Aérea - AVIANCA   \n",
       "198016                       NaN                            RAMAL   \n",
       "243908                       NaN           GOL LINHAS AEREAS S.A.   \n",
       "\n",
       "                txtCNPJCPF                 txtNumero  indTipoDocumento  \\\n",
       "62144   075.756.510/0015-9           Bilhete: ELSM6Q                 0   \n",
       "103557  242.066.170/0306-0                      5399                 4   \n",
       "189996  020.128.620/0016-0  Bilhete: 957-2181.815648                 0   \n",
       "81752   092.962.950/0016-0           Bilhete: A67F6L                 0   \n",
       "4008    032.614.910/0070-8                     27179                 4   \n",
       "83709   044.731.930/0015-9                     84259                 4   \n",
       "161308  330.001.180/0033-0               00002845449                 0   \n",
       "219049  025.758.290/0014-8       Bilhete: 2435473588                 0   \n",
       "198016  000.000.000/0000-6                   6482268                 0   \n",
       "243908  075.756.510/0015-9                 260700926                 0   \n",
       "\n",
       "                 datEmissao  vlrDocumento  vlrGlosa  vlrLiquido  numMes  \\\n",
       "62144   2018-11-07T00:00:00       1671.47       0.0     1671.47      11   \n",
       "103557  2018-06-01T00:00:00        646.07       0.0      646.07       6   \n",
       "189996  2018-10-25T00:00:00        881.98       0.0      881.98      10   \n",
       "81752   2018-06-18T00:00:00       1221.98       0.0     1221.98       6   \n",
       "4008    2018-05-15T00:00:00         50.00       0.0       50.00       5   \n",
       "83709   2018-05-10T00:00:00        178.29       0.0      178.29       5   \n",
       "161308  2018-09-21T00:00:00        141.77       0.0      141.77       9   \n",
       "219049  2018-01-31T00:00:00       2159.78       0.0     2159.78       1   \n",
       "198016                  NaN          1.52       0.0        1.52       1   \n",
       "243908  2018-05-14T00:00:00       1896.60       0.0     1896.60       5   \n",
       "\n",
       "        numAno  numParcela           txtPassageiro        txtTrecho  numLote  \\\n",
       "62144     2018           0        Damião Feliciano  MGF/GRU/GIG/JPA        0   \n",
       "103557    2018           0                     NaN              NaN  1506185   \n",
       "189996    2018           0  DANIELLA MARTINS SILVA          POA/BSB        0   \n",
       "81752     2018           0          Stefano Aguiar      CNF/BSB/CNF        0   \n",
       "4008      2018           0                     NaN              NaN  1496587   \n",
       "83709     2018           0                     NaN              NaN  1493601   \n",
       "161308    2018           0                     NaN              NaN  1534115   \n",
       "219049    2018           0                  MACEDO          FOR/BSB        0   \n",
       "198016    2018           0                     NaN              NaN        0   \n",
       "243908    2018           0                     NaN              NaN  1494778   \n",
       "\n",
       "        numRessarcimento datPagamentoRestituicao  vlrRestituicao  \\\n",
       "62144                0.0                     NaN             NaN   \n",
       "103557               NaN                     NaN             NaN   \n",
       "189996               0.0                     NaN             NaN   \n",
       "81752                0.0                     NaN             NaN   \n",
       "4008                 NaN                     NaN             NaN   \n",
       "83709                NaN                     NaN             NaN   \n",
       "161308               NaN                     NaN             NaN   \n",
       "219049               0.0                     NaN             NaN   \n",
       "198016               0.0                     NaN             NaN   \n",
       "243908               NaN                     NaN             NaN   \n",
       "\n",
       "        nuDeputadoId  ideDocumento  \\\n",
       "62144           1318       1614647   \n",
       "103557          1832       6608099   \n",
       "189996          2428       1616341   \n",
       "81752           2430       1574522   \n",
       "4008            3054       6585266   \n",
       "83709           2387       6576825   \n",
       "161308          2356       6685487   \n",
       "219049          3019       1524686   \n",
       "198016          2974             0   \n",
       "243908          3067       6580216   \n",
       "\n",
       "                                             urlDocumento  \n",
       "62144                                                 NaN  \n",
       "103557  https://www.camara.leg.br/cota-parlamentar/not...  \n",
       "189996                                                NaN  \n",
       "81752                                                 NaN  \n",
       "4008    https://www.camara.leg.br/cota-parlamentar/not...  \n",
       "83709   https://www.camara.leg.br/cota-parlamentar/not...  \n",
       "161308  https://www.camara.leg.br/cota-parlamentar/doc...  \n",
       "219049                                                NaN  \n",
       "198016                                                NaN  \n",
       "243908  https://www.camara.leg.br/cota-parlamentar/doc...  "
      ]
     },
     "execution_count": 239,
     "metadata": {},
     "output_type": "execute_result"
    }
   ],
   "source": [
    "df_reembolso_2018.sample(10)"
   ]
  },
  {
   "cell_type": "markdown",
   "id": "be0725bb",
   "metadata": {
    "id": "3LhB4RCUVMm7"
   },
   "source": [
    "### 4) Existem registros com `ideDocumento` nulo?"
   ]
  },
  {
   "cell_type": "code",
   "execution_count": 240,
   "id": "bc915fec",
   "metadata": {},
   "outputs": [
    {
     "data": {
      "text/plain": [
       "0"
      ]
     },
     "execution_count": 240,
     "metadata": {},
     "output_type": "execute_result"
    }
   ],
   "source": [
    "df_reembolso_2018[df_reembolso_2018.ideDocumento.isna()].shape[0]"
   ]
  },
  {
   "cell_type": "markdown",
   "id": "f048cb6e",
   "metadata": {},
   "source": [
    "### 5) Converta a coluna `datEmissao` para `datetime`, e descubra quantos reembolsos aconteram no primeiro semestre de 2018"
   ]
  },
  {
   "cell_type": "code",
   "execution_count": 241,
   "id": "841f51c2",
   "metadata": {},
   "outputs": [
    {
     "data": {
      "text/plain": [
       "159694"
      ]
     },
     "execution_count": 241,
     "metadata": {},
     "output_type": "execute_result"
    }
   ],
   "source": [
    "df_reembolso_2018[\"datEmissao\"] = pd.to_datetime(df_reembolso_2018.datEmissao)\n",
    "df_reembolso_2018[\"datEmissao\"] = pd.to_datetime(df_reembolso_2018.datEmissao, format=\"%Y-%m-%d\")\n",
    "df_reembolso_2018_ps = df_reembolso_2018.set_index(\"datEmissao\").loc[\"2018-01-01\":\"2018-06-30\"]\n",
    "df_reembolso_2018_ps.shape[0]\n"
   ]
  },
  {
   "cell_type": "markdown",
   "id": "f5f7801b",
   "metadata": {},
   "source": [
    "#### [Desafio Extra] Existem registros com `datEmissao` nulos? Se sim, quantos?"
   ]
  },
  {
   "cell_type": "code",
   "execution_count": 242,
   "id": "87026a4c",
   "metadata": {},
   "outputs": [
    {
     "data": {
      "text/plain": [
       "10043"
      ]
     },
     "execution_count": 242,
     "metadata": {},
     "output_type": "execute_result"
    }
   ],
   "source": [
    "df_reembolso_2018[df_reembolso_2018.datEmissao.isna()].shape[0]"
   ]
  },
  {
   "cell_type": "markdown",
   "id": "5a2d2e56",
   "metadata": {},
   "source": [
    "#### [Desafio Extra] Existem registros de outros anos no arquivo de 2018? Se sim, quais anos e quantos registros há nessas datas?"
   ]
  },
  {
   "cell_type": "code",
   "execution_count": 243,
   "id": "bd0f4fe8",
   "metadata": {},
   "outputs": [
    {
     "data": {
      "text/plain": [
       "11835"
      ]
     },
     "execution_count": 243,
     "metadata": {},
     "output_type": "execute_result"
    }
   ],
   "source": [
    "df_reembolso_2018[df_reembolso_2018.datEmissao.dt.year != 2018].shape[0]"
   ]
  },
  {
   "cell_type": "markdown",
   "id": "c45d303f",
   "metadata": {},
   "source": [
    "### 6) Quais os meses que mais tem solicitação de reembolso?"
   ]
  },
  {
   "cell_type": "code",
   "execution_count": 244,
   "id": "86c1ab12",
   "metadata": {},
   "outputs": [
    {
     "data": {
      "text/plain": [
       "mesReembolso\n",
       "1.0     17893\n",
       "2.0     24232\n",
       "3.0     31349\n",
       "4.0     29288\n",
       "5.0     31099\n",
       "6.0     27448\n",
       "7.0     24971\n",
       "8.0     20323\n",
       "9.0     10560\n",
       "10.0    21670\n",
       "11.0    23578\n",
       "12.0    20336\n",
       "Name: mesReembolso, dtype: int64"
      ]
     },
     "execution_count": 244,
     "metadata": {},
     "output_type": "execute_result"
    }
   ],
   "source": [
    "df_reembolso_2018[\"mesReembolso\"] = df_reembolso_2018.datEmissao.dt.month\n",
    "df_reembolso_2018.groupby(\"mesReembolso\")[\"mesReembolso\"].count()"
   ]
  },
  {
   "cell_type": "markdown",
   "id": "cdf80d6c",
   "metadata": {},
   "source": [
    "#### [Desafio Extra] Como seria para agrupar os dados no formato `mes/ano` , ao invés de apenas mês?"
   ]
  },
  {
   "cell_type": "code",
   "execution_count": 245,
   "id": "7c9b6a14",
   "metadata": {},
   "outputs": [
    {
     "data": {
      "text/plain": [
       "mesAnoReembolso\n",
       "3/2018     31336\n",
       "5/2018     31099\n",
       "4/2018     29288\n",
       "6/2018     27448\n",
       "7/2018     24969\n",
       "2/2018     24122\n",
       "11/2018    23563\n",
       "10/2018    21668\n",
       "8/2018     20323\n",
       "12/2018    20178\n",
       "1/2018     16401\n",
       "9/2018     10560\n",
       "nan/nan    10043\n",
       "1/2019      1492\n",
       "12/2017      158\n",
       "2/2019       110\n",
       "11/2017       15\n",
       "3/2019        11\n",
       "7/2017         2\n",
       "10/2017        2\n",
       "3/2017         2\n",
       "Name: mesAnoReembolso, dtype: int64"
      ]
     },
     "execution_count": 245,
     "metadata": {},
     "output_type": "execute_result"
    }
   ],
   "source": [
    "df_reembolso_2018[\"mesAnoReembolso\"] = df_reembolso_2018.datEmissao.apply(lambda x: f\"{x.month}/{x.year}\")\n",
    "df_reembolso_2018.groupby(\"mesAnoReembolso\")[\"mesAnoReembolso\"].count().sort_values(ascending=False)"
   ]
  },
  {
   "cell_type": "markdown",
   "id": "a98577da",
   "metadata": {},
   "source": [
    "### 7) Limpe a coluna `txtCNPJCPF`: ela deve conter somente dígitos numéricos"
   ]
  },
  {
   "cell_type": "code",
   "execution_count": 246,
   "id": "72548aa5",
   "metadata": {},
   "outputs": [
    {
     "data": {
      "text/plain": [
       "0         04644820000177\n",
       "1         24648970000166\n",
       "2         36756435000108\n",
       "3         29286545000198\n",
       "4         29286545000198\n",
       "               ...      \n",
       "292785    00000000000006\n",
       "292786    00982933000121\n",
       "292787    27402097000115\n",
       "292788    02214932000162\n",
       "292789    02012862000160\n",
       "Name: txtCNPJCPF, Length: 292790, dtype: object"
      ]
     },
     "execution_count": 246,
     "metadata": {},
     "output_type": "execute_result"
    }
   ],
   "source": [
    "# vamos trocar qualquer caracter que não seja um dígito número por '', essa operação remove os dígitos\n",
    "df_reembolso_2018[\"txtCNPJCPF\"] = df_reembolso_2018[\"txtCNPJCPF\"].replace(to_replace=r'\\D', value='', regex=True)\n",
    "df_reembolso_2018[\"txtCNPJCPF\"]"
   ]
  },
  {
   "cell_type": "markdown",
   "id": "d5592506",
   "metadata": {},
   "source": [
    "### 8) Quais são os valores únicos do campo `indTipoDocumento`? Substitua o conteúdo pela respectiva legenda\n",
    "\n",
    "*Dica*: 0 (Zero), para Nota Fiscal; 1 (um), para Recibo; e 2, para Despesa no Exterior."
   ]
  },
  {
   "cell_type": "code",
   "execution_count": 247,
   "id": "1c9b5dcd",
   "metadata": {},
   "outputs": [
    {
     "data": {
      "text/plain": [
       "0              Outros\n",
       "1              Outros\n",
       "2              Outros\n",
       "3         Nota Fiscal\n",
       "4         Nota Fiscal\n",
       "             ...     \n",
       "292785    Nota Fiscal\n",
       "292786         Outros\n",
       "292787         Outros\n",
       "292788         Outros\n",
       "292789    Nota Fiscal\n",
       "Name: indTipoDocumento, Length: 292790, dtype: object"
      ]
     },
     "execution_count": 247,
     "metadata": {},
     "output_type": "execute_result"
    }
   ],
   "source": [
    "df_reembolso_2018[\"indTipoDocumento\"] = df_reembolso_2018[\"indTipoDocumento\"].replace(0, \"Nota Fiscal\")\n",
    "df_reembolso_2018[\"indTipoDocumento\"] = df_reembolso_2018[\"indTipoDocumento\"].replace(1, \"Recibo\")\n",
    "df_reembolso_2018[\"indTipoDocumento\"] = df_reembolso_2018[\"indTipoDocumento\"].replace(2, \"Despesa no Exterior\")\n",
    "df_reembolso_2018[\"indTipoDocumento\"] = df_reembolso_2018[\"indTipoDocumento\"].replace(4, \"Outros\")\n",
    "\n",
    "\n",
    "df_reembolso_2018[\"indTipoDocumento\"]"
   ]
  },
  {
   "cell_type": "markdown",
   "id": "ce8402aa",
   "metadata": {},
   "source": [
    "### [Desafio Extra] 9) Agrupe o valor total de despesas por fornecedor, mês e ano. Você encontrou algum padrão?"
   ]
  },
  {
   "cell_type": "code",
   "execution_count": 248,
   "id": "d7801327",
   "metadata": {},
   "outputs": [
    {
     "data": {
      "text/plain": [
       "txtFornecedor    mesReembolso  anoReembolso\n",
       "Cia Aérea - GOL  10.0          2018.0          2502925.52\n",
       "                 11.0          2018.0          2497405.47\n",
       "Cia Aérea - TAM  11.0          2018.0          2241271.59\n",
       "                 10.0          2018.0          2113908.99\n",
       "Cia Aérea - GOL  3.0           2018.0          2060594.25\n",
       "                 5.0           2018.0          2042906.57\n",
       "Cia Aérea - TAM  3.0           2018.0          1948712.47\n",
       "                 5.0           2018.0          1923575.38\n",
       "Cia Aérea - GOL  4.0           2018.0          1874972.70\n",
       "                 7.0           2018.0          1853015.07\n",
       "                 8.0           2018.0          1759640.03\n",
       "Cia Aérea - TAM  4.0           2018.0          1742572.82\n",
       "                 8.0           2018.0          1679026.14\n",
       "Cia Aérea - GOL  12.0          2018.0          1656338.27\n",
       "Cia Aérea - TAM  12.0          2018.0          1643291.82\n",
       "Cia Aérea - GOL  6.0           2018.0          1589525.37\n",
       "                 2.0           2018.0          1582381.00\n",
       "Cia Aérea - TAM  6.0           2018.0          1539945.19\n",
       "                 7.0           2018.0          1499349.67\n",
       "                 2.0           2018.0          1467356.59\n",
       "Name: vlrLiquido, dtype: float64"
      ]
     },
     "execution_count": 248,
     "metadata": {},
     "output_type": "execute_result"
    }
   ],
   "source": [
    "df_reembolso_2018[\"anoReembolso\"] = df_reembolso_2018.datEmissao.dt.year\n",
    "\n",
    "df_reembolso_2018.groupby([\"txtFornecedor\", \"mesReembolso\", \"anoReembolso\"])[\"vlrLiquido\"].sum().sort_values(ascending=False).head(20)"
   ]
  },
  {
   "cell_type": "markdown",
   "id": "5cf22688",
   "metadata": {},
   "source": [
    "### [Desafio Extra] 10) Quais os 10 parlamentares que mais solicitaram reembolso?"
   ]
  },
  {
   "cell_type": "code",
   "execution_count": 249,
   "id": "743e3925",
   "metadata": {},
   "outputs": [
    {
     "data": {
      "text/plain": [
       "txNomeParlamentar\n",
       "Jhonatan de Jesus     561401.20\n",
       "REMÍDIO MONAI         549060.53\n",
       "Jéssica Sales         547381.07\n",
       "Arlindo Chinaglia     545289.58\n",
       "CARLOS ANDRADE        544175.67\n",
       "Dagoberto Nogueira    536591.68\n",
       "MARIA HELENA          533031.37\n",
       "CÉSAR HALUM           532234.50\n",
       "ANGELIM               532082.43\n",
       "Flaviano Melo         531284.08\n",
       "Name: vlrLiquido, dtype: float64"
      ]
     },
     "execution_count": 249,
     "metadata": {},
     "output_type": "execute_result"
    }
   ],
   "source": [
    "df_reembolso_2018.groupby([\"txNomeParlamentar\"])[\"vlrLiquido\"].sum().sort_values(ascending=False).head(10)"
   ]
  },
  {
   "cell_type": "markdown",
   "id": "ada7feda",
   "metadata": {},
   "source": [
    "#### [Desafio Extra] Como ficaria a resposta, caso queiramos saber quais os seus estados e partidos?"
   ]
  },
  {
   "cell_type": "code",
   "execution_count": 250,
   "id": "054348d3",
   "metadata": {},
   "outputs": [
    {
     "data": {
      "text/plain": [
       "txNomeParlamentar   sgUF  sgPartido   \n",
       "Jhonatan de Jesus   RR    REPUBLICANOS    561401.20\n",
       "REMÍDIO MONAI       RR    PR              549060.53\n",
       "Jéssica Sales       AC    MDB             547381.07\n",
       "Arlindo Chinaglia   SP    PT              545289.58\n",
       "CARLOS ANDRADE      RR    PHS             544175.67\n",
       "Dagoberto Nogueira  MS    PSDB            536591.68\n",
       "MARIA HELENA        RR    MDB             533031.37\n",
       "CÉSAR HALUM         TO    PRB             532234.50\n",
       "ANGELIM             AC    PT              532082.43\n",
       "Flaviano Melo       AC    MDB             531284.08\n",
       "Name: vlrLiquido, dtype: float64"
      ]
     },
     "execution_count": 250,
     "metadata": {},
     "output_type": "execute_result"
    }
   ],
   "source": [
    "df_reembolso_2018.groupby([\"txNomeParlamentar\", \"sgUF\", \"sgPartido\"])[\"vlrLiquido\"].sum().sort_values(ascending=False).head(10)"
   ]
  },
  {
   "cell_type": "markdown",
   "id": "97afecd5",
   "metadata": {},
   "source": [
    "### [Desafio Extra] 11) Quais os partidos e os estados que mais solicitaram reembolso?"
   ]
  },
  {
   "cell_type": "code",
   "execution_count": 251,
   "id": "6b8131d8",
   "metadata": {},
   "outputs": [
    {
     "data": {
      "text/plain": [
       "sgUF  sgPartido   \n",
       "SP    PSDB            5086525.61\n",
       "      PT              4204384.33\n",
       "RS    PT              3342057.14\n",
       "MG    PT              3144037.20\n",
       "PR    PP              3138115.78\n",
       "BA    PT              3060487.05\n",
       "MG    PP              3050441.43\n",
       "      PSD             2933102.72\n",
       "SP    REPUBLICANOS    2891213.68\n",
       "RJ    PSD             2797116.93\n",
       "Name: vlrLiquido, dtype: float64"
      ]
     },
     "execution_count": 251,
     "metadata": {},
     "output_type": "execute_result"
    }
   ],
   "source": [
    "df_reembolso_2018.groupby([\"sgUF\", \"sgPartido\"])[\"vlrLiquido\"].sum().sort_values(ascending=False).head(10)"
   ]
  },
  {
   "cell_type": "markdown",
   "id": "48b6dd88",
   "metadata": {},
   "source": [
    "### [Desafio Extra] 12) Recupere os reembolsos de 2019 e acrescente aos dados de 2018"
   ]
  },
  {
   "cell_type": "code",
   "execution_count": 252,
   "id": "cf275d82",
   "metadata": {},
   "outputs": [],
   "source": [
    "import requests\n",
    "from zipfile import ZipFile\n",
    "\n",
    "# fazendo o download do conteúdo do arquivo\n",
    "request = requests.get(\"http://www.camara.leg.br/cotas/Ano-2019.csv.zip\")\n",
    "\n",
    "url = f\"http://www.camara.leg.br/cotas/Ano-2019.csv.zip\"\n",
    "request = requests.get(url)\n",
    "\n",
    "file = open(f\"Ano-2019.csv.zip\", \"wb\")\n",
    "file.write(request.content)\n",
    "file.close()\n",
    "\n",
    "zip_file = ZipFile(f\"Ano-2019.csv.zip\", \"r\")\n",
    "zip_file.extract(member=f\"Ano-2019.csv\", path=f\"reembolso-2019\")\n",
    "zip_file.close()\n",
    "\n",
    "df_reembolso_2019 = pd.read_csv(\"reembolso-2019/Ano-2019.csv\", delimiter=\";\", dtype=DTYPE)\n",
    "\n",
    "df_reembolso_2018_2019 = pd.concat([df_reembolso_2018, df_reembolso_2019], ignore_index=True)\n",
    "\n",
    "df_reembolso_2018_2019[\"datEmissao\"] = pd.to_datetime(df_reembolso_2018_2019.datEmissao)\n",
    "df_reembolso_2018_2019[\"datEmissao\"] = pd.to_datetime(df_reembolso_2018_2019.datEmissao, format=\"%Y-%m-%d\")\n",
    "df_reembolso_2018_2019[\"mesReembolso\"] = df_reembolso_2018_2019.datEmissao.dt.month\n",
    "df_reembolso_2018_2019[\"anoReembolso\"] = df_reembolso_2018_2019.datEmissao.dt.year\n",
    "df_reembolso_2018_2019[\"mesAnoReembolso\"] = df_reembolso_2018_2019.datEmissao.apply(lambda x: f\"{x.month}/{x.year}\")\n",
    "\n"
   ]
  },
  {
   "cell_type": "markdown",
   "id": "3956e033",
   "metadata": {},
   "source": [
    "### [Desafio Extra] 13) Responda novamente as questões 9, 10 e 11. Houve alguma mudança nos resultados?"
   ]
  },
  {
   "cell_type": "code",
   "execution_count": 253,
   "id": "913dd2a1",
   "metadata": {},
   "outputs": [
    {
     "data": {
      "text/plain": [
       "txtFornecedor    mesReembolso  anoReembolso\n",
       "Cia Aérea - TAM  5.0           2019.0          2639382.96\n",
       "                 4.0           2019.0          2628222.82\n",
       "                 2.0           2019.0          2627533.35\n",
       "Cia Aérea - GOL  8.0           2019.0          2590982.64\n",
       "                 10.0          2019.0          2543745.80\n",
       "                               2018.0          2502925.52\n",
       "                 11.0          2018.0          2497405.47\n",
       "Cia Aérea - TAM  10.0          2019.0          2345078.00\n",
       "Cia Aérea - GOL  5.0           2019.0          2333780.91\n",
       "Cia Aérea - TAM  8.0           2019.0          2264387.35\n",
       "                 11.0          2018.0          2241271.59\n",
       "                 3.0           2019.0          2149116.09\n",
       "Cia Aérea - GOL  4.0           2019.0          2147877.73\n",
       "Cia Aérea - TAM  10.0          2018.0          2113908.99\n",
       "Cia Aérea - GOL  9.0           2019.0          2112975.98\n",
       "Cia Aérea - TAM  6.0           2019.0          2107350.63\n",
       "                 9.0           2019.0          2065295.10\n",
       "Cia Aérea - GOL  3.0           2018.0          2060594.25\n",
       "                 5.0           2018.0          2042906.57\n",
       "Cia Aérea - TAM  7.0           2019.0          1966147.81\n",
       "Name: vlrLiquido, dtype: float64"
      ]
     },
     "execution_count": 253,
     "metadata": {},
     "output_type": "execute_result"
    }
   ],
   "source": [
    "df_reembolso_2018_2019.groupby([\"txtFornecedor\", \"mesReembolso\", \"anoReembolso\"])[\"vlrLiquido\"].sum().sort_values(ascending=False).head(20)"
   ]
  },
  {
   "cell_type": "code",
   "execution_count": 254,
   "id": "5bcce6ae",
   "metadata": {},
   "outputs": [
    {
     "data": {
      "text/plain": [
       "txNomeParlamentar   sgUF  sgPartido   \n",
       "Jéssica Sales       AC    MDB             1084703.12\n",
       "Jhonatan de Jesus   RR    REPUBLICANOS    1077787.65\n",
       "Hiran Gonçalves     RR    PP              1063153.44\n",
       "Flaviano Melo       AC    MDB             1051355.53\n",
       "Rafael Motta        RN    PSB             1037232.85\n",
       "Hildo Rocha         MA    MDB             1036810.75\n",
       "André Abdon         AP    PP              1028589.54\n",
       "João Marcelo Souza  MA    MDB             1016659.56\n",
       "Luizianne Lins      CE    PT              1016105.42\n",
       "Beto Rosado         RN    PP              1013537.35\n",
       "Name: vlrLiquido, dtype: float64"
      ]
     },
     "execution_count": 254,
     "metadata": {},
     "output_type": "execute_result"
    }
   ],
   "source": [
    "df_reembolso_2018_2019.groupby([\"txNomeParlamentar\", \"sgUF\", \"sgPartido\"])[\"vlrLiquido\"].sum().sort_values(ascending=False).head(10)"
   ]
  },
  {
   "cell_type": "code",
   "execution_count": 255,
   "id": "6f659ef0",
   "metadata": {},
   "outputs": [
    {
     "data": {
      "text/plain": [
       "sgUF  sgPartido   \n",
       "SP    PSDB            8162154.64\n",
       "      PT              7624879.71\n",
       "      PL              7056360.74\n",
       "MG    PT              6640933.71\n",
       "SP    REPUBLICANOS    6493318.78\n",
       "BA    PT              6213677.25\n",
       "PR    PP              5774348.24\n",
       "RS    PT              5748143.61\n",
       "RJ    PSD             5185575.24\n",
       "MG    PP              5166689.40\n",
       "Name: vlrLiquido, dtype: float64"
      ]
     },
     "execution_count": 255,
     "metadata": {},
     "output_type": "execute_result"
    }
   ],
   "source": [
    "df_reembolso_2018_2019.groupby([\"sgUF\", \"sgPartido\"])[\"vlrLiquido\"].sum().sort_values(ascending=False).head(10)"
   ]
  }
 ],
 "metadata": {
  "kernelspec": {
   "display_name": "Python 3 (ipykernel)",
   "language": "python",
   "name": "python3"
  },
  "language_info": {
   "codemirror_mode": {
    "name": "ipython",
    "version": 3
   },
   "file_extension": ".py",
   "mimetype": "text/x-python",
   "name": "python",
   "nbconvert_exporter": "python",
   "pygments_lexer": "ipython3",
   "version": "3.9.13"
  },
  "toc": {
   "base_numbering": 1,
   "nav_menu": {},
   "number_sections": true,
   "sideBar": true,
   "skip_h1_title": false,
   "title_cell": "Table of Contents",
   "title_sidebar": "Contents",
   "toc_cell": false,
   "toc_position": {
    "height": "calc(100% - 180px)",
    "left": "10px",
    "top": "150px",
    "width": "165px"
   },
   "toc_section_display": true,
   "toc_window_display": true
  }
 },
 "nbformat": 4,
 "nbformat_minor": 5
}
